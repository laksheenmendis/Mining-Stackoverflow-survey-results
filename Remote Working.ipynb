{
 "cells": [
  {
   "cell_type": "markdown",
   "metadata": {},
   "source": [
    "### Remote Working"
   ]
  },
  {
   "cell_type": "markdown",
   "metadata": {},
   "source": [
    "In this notebook, I'm trying to figure out whether **respondants who mostly work remotely have a different view point to that of non/rare remote workers, on collaborating with peers remotely versus on site**"
   ]
  },
  {
   "cell_type": "code",
   "execution_count": 2,
   "metadata": {},
   "outputs": [
    {
     "data": {
      "text/html": [
       "<div>\n",
       "<style scoped>\n",
       "    .dataframe tbody tr th:only-of-type {\n",
       "        vertical-align: middle;\n",
       "    }\n",
       "\n",
       "    .dataframe tbody tr th {\n",
       "        vertical-align: top;\n",
       "    }\n",
       "\n",
       "    .dataframe thead th {\n",
       "        text-align: right;\n",
       "    }\n",
       "</style>\n",
       "<table border=\"1\" class=\"dataframe\">\n",
       "  <thead>\n",
       "    <tr style=\"text-align: right;\">\n",
       "      <th></th>\n",
       "      <th>Respondent</th>\n",
       "      <th>Professional</th>\n",
       "      <th>ProgramHobby</th>\n",
       "      <th>Country</th>\n",
       "      <th>University</th>\n",
       "      <th>EmploymentStatus</th>\n",
       "      <th>FormalEducation</th>\n",
       "      <th>MajorUndergrad</th>\n",
       "      <th>HomeRemote</th>\n",
       "      <th>CompanySize</th>\n",
       "      <th>...</th>\n",
       "      <th>StackOverflowMakeMoney</th>\n",
       "      <th>Gender</th>\n",
       "      <th>HighestEducationParents</th>\n",
       "      <th>Race</th>\n",
       "      <th>SurveyLong</th>\n",
       "      <th>QuestionsInteresting</th>\n",
       "      <th>QuestionsConfusing</th>\n",
       "      <th>InterestedAnswers</th>\n",
       "      <th>Salary</th>\n",
       "      <th>ExpectedSalary</th>\n",
       "    </tr>\n",
       "  </thead>\n",
       "  <tbody>\n",
       "    <tr>\n",
       "      <th>0</th>\n",
       "      <td>1</td>\n",
       "      <td>Student</td>\n",
       "      <td>Yes, both</td>\n",
       "      <td>United States</td>\n",
       "      <td>No</td>\n",
       "      <td>Not employed, and not looking for work</td>\n",
       "      <td>Secondary school</td>\n",
       "      <td>NaN</td>\n",
       "      <td>NaN</td>\n",
       "      <td>NaN</td>\n",
       "      <td>...</td>\n",
       "      <td>Strongly disagree</td>\n",
       "      <td>Male</td>\n",
       "      <td>High school</td>\n",
       "      <td>White or of European descent</td>\n",
       "      <td>Strongly disagree</td>\n",
       "      <td>Strongly agree</td>\n",
       "      <td>Disagree</td>\n",
       "      <td>Strongly agree</td>\n",
       "      <td>NaN</td>\n",
       "      <td>NaN</td>\n",
       "    </tr>\n",
       "    <tr>\n",
       "      <th>1</th>\n",
       "      <td>2</td>\n",
       "      <td>Student</td>\n",
       "      <td>Yes, both</td>\n",
       "      <td>United Kingdom</td>\n",
       "      <td>Yes, full-time</td>\n",
       "      <td>Employed part-time</td>\n",
       "      <td>Some college/university study without earning ...</td>\n",
       "      <td>Computer science or software engineering</td>\n",
       "      <td>More than half, but not all, the time</td>\n",
       "      <td>20 to 99 employees</td>\n",
       "      <td>...</td>\n",
       "      <td>Strongly disagree</td>\n",
       "      <td>Male</td>\n",
       "      <td>A master's degree</td>\n",
       "      <td>White or of European descent</td>\n",
       "      <td>Somewhat agree</td>\n",
       "      <td>Somewhat agree</td>\n",
       "      <td>Disagree</td>\n",
       "      <td>Strongly agree</td>\n",
       "      <td>NaN</td>\n",
       "      <td>37500.0</td>\n",
       "    </tr>\n",
       "    <tr>\n",
       "      <th>2</th>\n",
       "      <td>3</td>\n",
       "      <td>Professional developer</td>\n",
       "      <td>Yes, both</td>\n",
       "      <td>United Kingdom</td>\n",
       "      <td>No</td>\n",
       "      <td>Employed full-time</td>\n",
       "      <td>Bachelor's degree</td>\n",
       "      <td>Computer science or software engineering</td>\n",
       "      <td>Less than half the time, but at least one day ...</td>\n",
       "      <td>10,000 or more employees</td>\n",
       "      <td>...</td>\n",
       "      <td>Disagree</td>\n",
       "      <td>Male</td>\n",
       "      <td>A professional degree</td>\n",
       "      <td>White or of European descent</td>\n",
       "      <td>Somewhat agree</td>\n",
       "      <td>Agree</td>\n",
       "      <td>Disagree</td>\n",
       "      <td>Agree</td>\n",
       "      <td>113750.0</td>\n",
       "      <td>NaN</td>\n",
       "    </tr>\n",
       "    <tr>\n",
       "      <th>3</th>\n",
       "      <td>4</td>\n",
       "      <td>Professional non-developer who sometimes write...</td>\n",
       "      <td>Yes, both</td>\n",
       "      <td>United States</td>\n",
       "      <td>No</td>\n",
       "      <td>Employed full-time</td>\n",
       "      <td>Doctoral degree</td>\n",
       "      <td>A non-computer-focused engineering discipline</td>\n",
       "      <td>Less than half the time, but at least one day ...</td>\n",
       "      <td>10,000 or more employees</td>\n",
       "      <td>...</td>\n",
       "      <td>Disagree</td>\n",
       "      <td>Male</td>\n",
       "      <td>A doctoral degree</td>\n",
       "      <td>White or of European descent</td>\n",
       "      <td>Agree</td>\n",
       "      <td>Agree</td>\n",
       "      <td>Somewhat agree</td>\n",
       "      <td>Strongly agree</td>\n",
       "      <td>NaN</td>\n",
       "      <td>NaN</td>\n",
       "    </tr>\n",
       "    <tr>\n",
       "      <th>4</th>\n",
       "      <td>5</td>\n",
       "      <td>Professional developer</td>\n",
       "      <td>Yes, I program as a hobby</td>\n",
       "      <td>Switzerland</td>\n",
       "      <td>No</td>\n",
       "      <td>Employed full-time</td>\n",
       "      <td>Master's degree</td>\n",
       "      <td>Computer science or software engineering</td>\n",
       "      <td>Never</td>\n",
       "      <td>10 to 19 employees</td>\n",
       "      <td>...</td>\n",
       "      <td>NaN</td>\n",
       "      <td>NaN</td>\n",
       "      <td>NaN</td>\n",
       "      <td>NaN</td>\n",
       "      <td>NaN</td>\n",
       "      <td>NaN</td>\n",
       "      <td>NaN</td>\n",
       "      <td>NaN</td>\n",
       "      <td>NaN</td>\n",
       "      <td>NaN</td>\n",
       "    </tr>\n",
       "  </tbody>\n",
       "</table>\n",
       "<p>5 rows × 154 columns</p>\n",
       "</div>"
      ],
      "text/plain": [
       "   Respondent                                       Professional  \\\n",
       "0           1                                            Student   \n",
       "1           2                                            Student   \n",
       "2           3                             Professional developer   \n",
       "3           4  Professional non-developer who sometimes write...   \n",
       "4           5                             Professional developer   \n",
       "\n",
       "                ProgramHobby         Country      University  \\\n",
       "0                  Yes, both   United States              No   \n",
       "1                  Yes, both  United Kingdom  Yes, full-time   \n",
       "2                  Yes, both  United Kingdom              No   \n",
       "3                  Yes, both   United States              No   \n",
       "4  Yes, I program as a hobby     Switzerland              No   \n",
       "\n",
       "                         EmploymentStatus  \\\n",
       "0  Not employed, and not looking for work   \n",
       "1                      Employed part-time   \n",
       "2                      Employed full-time   \n",
       "3                      Employed full-time   \n",
       "4                      Employed full-time   \n",
       "\n",
       "                                     FormalEducation  \\\n",
       "0                                   Secondary school   \n",
       "1  Some college/university study without earning ...   \n",
       "2                                  Bachelor's degree   \n",
       "3                                    Doctoral degree   \n",
       "4                                    Master's degree   \n",
       "\n",
       "                                  MajorUndergrad  \\\n",
       "0                                            NaN   \n",
       "1       Computer science or software engineering   \n",
       "2       Computer science or software engineering   \n",
       "3  A non-computer-focused engineering discipline   \n",
       "4       Computer science or software engineering   \n",
       "\n",
       "                                          HomeRemote  \\\n",
       "0                                                NaN   \n",
       "1              More than half, but not all, the time   \n",
       "2  Less than half the time, but at least one day ...   \n",
       "3  Less than half the time, but at least one day ...   \n",
       "4                                              Never   \n",
       "\n",
       "                CompanySize       ...       StackOverflowMakeMoney Gender  \\\n",
       "0                       NaN       ...            Strongly disagree   Male   \n",
       "1        20 to 99 employees       ...            Strongly disagree   Male   \n",
       "2  10,000 or more employees       ...                     Disagree   Male   \n",
       "3  10,000 or more employees       ...                     Disagree   Male   \n",
       "4        10 to 19 employees       ...                          NaN    NaN   \n",
       "\n",
       "  HighestEducationParents                          Race         SurveyLong  \\\n",
       "0             High school  White or of European descent  Strongly disagree   \n",
       "1       A master's degree  White or of European descent     Somewhat agree   \n",
       "2   A professional degree  White or of European descent     Somewhat agree   \n",
       "3       A doctoral degree  White or of European descent              Agree   \n",
       "4                     NaN                           NaN                NaN   \n",
       "\n",
       "  QuestionsInteresting QuestionsConfusing InterestedAnswers    Salary  \\\n",
       "0       Strongly agree           Disagree    Strongly agree       NaN   \n",
       "1       Somewhat agree           Disagree    Strongly agree       NaN   \n",
       "2                Agree           Disagree             Agree  113750.0   \n",
       "3                Agree     Somewhat agree    Strongly agree       NaN   \n",
       "4                  NaN                NaN               NaN       NaN   \n",
       "\n",
       "   ExpectedSalary  \n",
       "0             NaN  \n",
       "1         37500.0  \n",
       "2             NaN  \n",
       "3             NaN  \n",
       "4             NaN  \n",
       "\n",
       "[5 rows x 154 columns]"
      ]
     },
     "execution_count": 2,
     "metadata": {},
     "output_type": "execute_result"
    }
   ],
   "source": [
    "import pandas as pd\n",
    "import numpy as np\n",
    "import matplotlib.pyplot as plt\n",
    "from collections import defaultdict\n",
    "%matplotlib inline\n",
    "\n",
    "df = pd.read_csv('./survey_results_public.csv')\n",
    "schema = pd.read_csv('./survey_results_schema.csv')\n",
    "df.head()"
   ]
  },
  {
   "cell_type": "markdown",
   "metadata": {},
   "source": [
    "There are 2 columns which relate to working remotely; **HomeRemote and CollaborateRemote**"
   ]
  },
  {
   "cell_type": "code",
   "execution_count": 10,
   "metadata": {},
   "outputs": [
    {
     "name": "stdout",
     "output_type": "stream",
     "text": [
      "A few days each month                                      5876\n",
      "Never                                                      5288\n",
      "All or almost all the time (I'm full-time remote)          1922\n",
      "Less than half the time, but at least one day each week    1464\n",
      "More than half, but not all, the time                       676\n",
      "It's complicated                                            633\n",
      "About half the time                                         612\n",
      "Name: HomeRemote, dtype: int64\n"
     ]
    },
    {
     "data": {
      "image/png": "[encoded data removed]",
      "text/plain": [
       "<matplotlib.figure.Figure at 0x118c3af60>"
      ]
     },
     "metadata": {},
     "output_type": "display_data"
    }
   ],
   "source": [
    "#Let's find out what are the different HomeRemote values in the dataset\n",
    "\n",
    "remote_working_vals = df.HomeRemote.value_counts()\n",
    "\n",
    "print(remote_working_vals)\n",
    "\n",
    "#below is a bar chart of the proportion of individuals in each remote working category \n",
    "\n",
    "(remote_working_vals/df.shape[0]).plot(kind=\"bar\");\n",
    "plt.title(\"How often do you work remotely?\");"
   ]
  },
  {
   "cell_type": "code",
   "execution_count": 9,
   "metadata": {},
   "outputs": [
    {
     "data": {
      "text/plain": [
       "\"It's harder to collaborate with remote peers than those on site\""
      ]
     },
     "execution_count": 9,
     "metadata": {},
     "output_type": "execute_result"
    }
   ],
   "source": [
    "#here we're getting the description of CollaborateRemote column\n",
    "\n",
    "def get_description(column_name, schema=schema):\n",
    "    '''\n",
    "    INPUT - schema - pandas dataframe with the schema of the developers survey\n",
    "            column_name - string - the name of the column you would like to know about\n",
    "    OUTPUT - \n",
    "            desc - string - the description of the column\n",
    "    '''\n",
    "    desc = list(schema[schema['Column']==column_name]['Question'])[0]\n",
    "    return desc\n",
    "\n",
    "get_description('CollaborateRemote')"
   ]
  },
  {
   "cell_type": "code",
   "execution_count": 17,
   "metadata": {},
   "outputs": [
    {
     "data": {
      "text/plain": [
       "Somewhat agree       3404\n",
       "Agree                3388\n",
       "Disagree             2374\n",
       "Strongly agree       1341\n",
       "Strongly disagree     623\n",
       "Name: CollaborateRemote, dtype: int64"
      ]
     },
     "execution_count": 17,
     "metadata": {},
     "output_type": "execute_result"
    }
   ],
   "source": [
    "df.CollaborateRemote.value_counts()"
   ]
  },
  {
   "cell_type": "code",
   "execution_count": 13,
   "metadata": {},
   "outputs": [],
   "source": [
    "# now respondants of the survey are divided into 2 main categories based on the time they work remotely\n",
    "# 1. Respondants who work remote often (wor)\n",
    "# 2. Respondants who don't work remotely/very rarely\n",
    "\n",
    "remote_status = ['All or almost all the time (I''m full-time remote)','More than half, but not all, the time','About half the time ']\n",
    "non_remote_status = ['A few days each month','Never','Less than half the time, but at least one day each week','It''s complicated']\n",
    "\n",
    "def works_remotely(home_remote_str):\n",
    "    '''\n",
    "    INPUT\n",
    "        home_remote_str - a string of one of the values from the HomeRemote column\n",
    "    \n",
    "    OUTPUT\n",
    "        return 1 if the string is  in remote_status list\n",
    "        return 0 otherwise\n",
    "    \n",
    "    '''\n",
    "    if home_remote_str in remote_status:\n",
    "        return 1\n",
    "    else:\n",
    "        return 0\n"
   ]
  },
  {
   "cell_type": "code",
   "execution_count": 18,
   "metadata": {},
   "outputs": [],
   "source": [
    "df['RemoteWorker']=df[\"HomeRemote\"].apply(works_remotely)"
   ]
  },
  {
   "cell_type": "markdown",
   "metadata": {},
   "source": [
    "Now we would like to find out if the proportion of respondants who work remote mostly, feel differently than those that do not. \n",
    "\n",
    "Store a dataframe of only the individual's who had RemoteWorker equal to 1 in remote_rows. Similarly, store a dataframe of only the RemoteWorker equal to 0 values in non_remote_rows."
   ]
  },
  {
   "cell_type": "code",
   "execution_count": 24,
   "metadata": {},
   "outputs": [],
   "source": [
    "remote_rows = df[df['RemoteWorker']==1]      # Subset df to only those who work remote often\n",
    "non_remote_rows = df[df['RemoteWorker']==0]  # Subset df to only those who don't work remotely/very rarely"
   ]
  },
  {
   "cell_type": "code",
   "execution_count": 31,
   "metadata": {},
   "outputs": [],
   "source": [
    "def total_count(df, col1, col2, look_for):\n",
    "    '''\n",
    "    INPUT:\n",
    "    df - the pandas dataframe you want to search\n",
    "    col1 - the column name you want to look through\n",
    "    col2 - the column you want to count values from\n",
    "    look_for - a list of strings you want to search for in each row of df[col]\n",
    "\n",
    "    OUTPUT:\n",
    "    new_df - a dataframe of each look_for with the count of how often it shows up\n",
    "    '''\n",
    "    new_df = defaultdict(int)\n",
    "    #loop through list of ed types\n",
    "    for val in look_for:\n",
    "        #loop through rows\n",
    "        for idx in range(df.shape[0]):\n",
    "            #if the ed type is in the row add 1\n",
    "            if val in df[col1][idx]:\n",
    "                new_df[val] += int(df[col2][idx])\n",
    "    new_df = pd.DataFrame(pd.Series(new_df)).reset_index()\n",
    "    new_df.columns = [col1, col2]\n",
    "    new_df.sort_values('count', ascending=False, inplace=True)\n",
    "    return new_df"
   ]
  },
  {
   "cell_type": "code",
   "execution_count": 32,
   "metadata": {},
   "outputs": [],
   "source": [
    "#possible values in CollaborateRemote column\n",
    "possible_vals = [\"Somewhat agree\", \"Agree\", \"Disagree\", \"Strongly agree\", \"Strongly disagree\"]\n",
    "\n",
    "def clean_and_plot(df, title, plot=True):\n",
    "    '''\n",
    "    INPUT \n",
    "        df - a dataframe holding the CollaborateRemote column\n",
    "        title - string the title of your plot\n",
    "        axis - axis object\n",
    "        plot - bool providing whether or not you want a plot back\n",
    "        \n",
    "    OUTPUT\n",
    "        remote_df - a dataframe with the count of how many individuals\n",
    "        Displays a plot of pretty things related to the CollaborateRemote column.\n",
    "    '''\n",
    "    view = df['CollaborateRemote'].value_counts().reset_index()\n",
    "    view.rename(columns={'index': 'method', 'CollaborateRemote': 'count'}, inplace=True)\n",
    "    remote_df = total_count(view, 'method', 'count', possible_vals)\n",
    "\n",
    "    remote_df.set_index('method', inplace=True)\n",
    "    if plot:\n",
    "        (remote_df/remote_df.sum()).plot(kind='bar', legend=None);\n",
    "        plt.title(title);\n",
    "        plt.show()\n",
    "    props_remote_df = remote_df/remote_df.sum()\n",
    "    return props_remote_df"
   ]
  },
  {
   "cell_type": "code",
   "execution_count": 33,
   "metadata": {},
   "outputs": [
    {
     "data": {
      "text/html": [
       "<style  type=\"text/css\" >\n",
       "    #T_7d498746_a00a_11e9_a7c2_8c859075646erow0_col2 {\n",
       "            width:  10em;\n",
       "             height:  80%;\n",
       "            background:  linear-gradient(90deg, transparent 0%, transparent 44.9%, #5fba7d 44.9%, #5fba7d 68.0%, transparent 68.0%);\n",
       "        }    #T_7d498746_a00a_11e9_a7c2_8c859075646erow1_col2 {\n",
       "            width:  10em;\n",
       "             height:  80%;\n",
       "            background:  linear-gradient(90deg, transparent 0%, transparent 44.9%, #5fba7d 44.9%, #5fba7d 100.0%, transparent 100.0%);\n",
       "        }    #T_7d498746_a00a_11e9_a7c2_8c859075646erow2_col2 {\n",
       "            width:  10em;\n",
       "             height:  80%;\n",
       "            background:  linear-gradient(90deg, transparent 0%, transparent -0.0%, #d65f5f -0.0%, #d65f5f 44.9%, transparent 44.9%);\n",
       "        }    #T_7d498746_a00a_11e9_a7c2_8c859075646erow3_col2 {\n",
       "            width:  10em;\n",
       "             height:  80%;\n",
       "            background:  linear-gradient(90deg, transparent 0%, transparent 44.9%, #5fba7d 44.9%, #5fba7d 53.3%, transparent 53.3%);\n",
       "        }    #T_7d498746_a00a_11e9_a7c2_8c859075646erow4_col2 {\n",
       "            width:  10em;\n",
       "             height:  80%;\n",
       "            background:  linear-gradient(90deg, transparent 0%, transparent 3.0%, #d65f5f 3.0%, #d65f5f 44.9%, transparent 44.9%);\n",
       "        }</style>  \n",
       "<table id=\"T_7d498746_a00a_11e9_a7c2_8c859075646e\" > \n",
       "<thead>    <tr> \n",
       "        <th class=\"blank level0\" ></th> \n",
       "        <th class=\"col_heading level0 col0\" >remote_perc</th> \n",
       "        <th class=\"col_heading level0 col1\" >non_remote_perc</th> \n",
       "        <th class=\"col_heading level0 col2\" >Diff_Remote_Vals</th> \n",
       "    </tr>    <tr> \n",
       "        <th class=\"index_name level0\" >method</th> \n",
       "        <th class=\"blank\" ></th> \n",
       "        <th class=\"blank\" ></th> \n",
       "        <th class=\"blank\" ></th> \n",
       "    </tr></thead> \n",
       "<tbody>    <tr> \n",
       "        <th id=\"T_7d498746_a00a_11e9_a7c2_8c859075646elevel0_row0\" class=\"row_heading level0 row0\" >Somewhat agree</th> \n",
       "        <td id=\"T_7d498746_a00a_11e9_a7c2_8c859075646erow0_col0\" class=\"data row0 col0\" >0.340369</td> \n",
       "        <td id=\"T_7d498746_a00a_11e9_a7c2_8c859075646erow0_col1\" class=\"data row0 col1\" >0.304623</td> \n",
       "        <td id=\"T_7d498746_a00a_11e9_a7c2_8c859075646erow0_col2\" class=\"data row0 col2\" >0.0357466</td> \n",
       "    </tr>    <tr> \n",
       "        <th id=\"T_7d498746_a00a_11e9_a7c2_8c859075646elevel0_row1\" class=\"row_heading level0 row1\" >Disagree</th> \n",
       "        <td id=\"T_7d498746_a00a_11e9_a7c2_8c859075646erow1_col0\" class=\"data row1 col0\" >0.295515</td> \n",
       "        <td id=\"T_7d498746_a00a_11e9_a7c2_8c859075646erow1_col1\" class=\"data row1 col1\" >0.210399</td> \n",
       "        <td id=\"T_7d498746_a00a_11e9_a7c2_8c859075646erow1_col2\" class=\"data row1 col2\" >0.0851155</td> \n",
       "    </tr>    <tr> \n",
       "        <th id=\"T_7d498746_a00a_11e9_a7c2_8c859075646elevel0_row2\" class=\"row_heading level0 row2\" >Agree</th> \n",
       "        <td id=\"T_7d498746_a00a_11e9_a7c2_8c859075646erow2_col0\" class=\"data row2 col0\" >0.237467</td> \n",
       "        <td id=\"T_7d498746_a00a_11e9_a7c2_8c859075646erow2_col1\" class=\"data row2 col1\" >0.306762</td> \n",
       "        <td id=\"T_7d498746_a00a_11e9_a7c2_8c859075646erow2_col2\" class=\"data row2 col2\" >-0.0692951</td> \n",
       "    </tr>    <tr> \n",
       "        <th id=\"T_7d498746_a00a_11e9_a7c2_8c859075646elevel0_row3\" class=\"row_heading level0 row3\" >Strongly disagree</th> \n",
       "        <td id=\"T_7d498746_a00a_11e9_a7c2_8c859075646erow3_col0\" class=\"data row3 col0\" >0.0686016</td> \n",
       "        <td id=\"T_7d498746_a00a_11e9_a7c2_8c859075646erow3_col1\" class=\"data row3 col1\" >0.0555297</td> \n",
       "        <td id=\"T_7d498746_a00a_11e9_a7c2_8c859075646erow3_col2\" class=\"data row3 col2\" >0.0130719</td> \n",
       "    </tr>    <tr> \n",
       "        <th id=\"T_7d498746_a00a_11e9_a7c2_8c859075646elevel0_row4\" class=\"row_heading level0 row4\" >Strongly agree</th> \n",
       "        <td id=\"T_7d498746_a00a_11e9_a7c2_8c859075646erow4_col0\" class=\"data row4 col0\" >0.0580475</td> \n",
       "        <td id=\"T_7d498746_a00a_11e9_a7c2_8c859075646erow4_col1\" class=\"data row4 col1\" >0.122686</td> \n",
       "        <td id=\"T_7d498746_a00a_11e9_a7c2_8c859075646erow4_col2\" class=\"data row4 col2\" >-0.0646388</td> \n",
       "    </tr></tbody> \n",
       "</table> "
      ],
      "text/plain": [
       "<pandas.io.formats.style.Styler at 0x128f87550>"
      ]
     },
     "execution_count": 33,
     "metadata": {},
     "output_type": "execute_result"
    }
   ],
   "source": [
    "remote_perc = clean_and_plot(remote_rows, 'Remote Workers Responds', plot=False)\n",
    "non_remote_perc = clean_and_plot(non_remote_rows, 'Non Remote Workers Responds', plot=False)\n",
    "\n",
    "comp_df = pd.merge(remote_perc, non_remote_perc, left_index=True, right_index=True)\n",
    "comp_df.columns = ['remote_perc', 'non_remote_perc']\n",
    "comp_df['Diff_Remote_Vals'] = comp_df['remote_perc'] - comp_df['non_remote_perc']\n",
    "comp_df.style.bar(subset=['Diff_Remote_Vals'], align='mid', color=['#d65f5f', '#5fba7d'])"
   ]
  },
  {
   "cell_type": "code",
   "execution_count": 35,
   "metadata": {},
   "outputs": [
    {
     "data": {
      "text/plain": [
       "0.6358835"
      ]
     },
     "execution_count": 35,
     "metadata": {},
     "output_type": "execute_result"
    }
   ],
   "source": [
    "# by considering 'Somewhat agree', 'Agree' and 'Strongly agree' as Agree\n",
    "remote_workers_who_agree = 0.340369 + 0.237467 + 0.0580475\n",
    "remote_workers_who_agree"
   ]
  },
  {
   "cell_type": "code",
   "execution_count": 36,
   "metadata": {},
   "outputs": [
    {
     "data": {
      "text/plain": [
       "0.7340709999999999"
      ]
     },
     "execution_count": 36,
     "metadata": {},
     "output_type": "execute_result"
    }
   ],
   "source": [
    "non_remote_workers_who_agree = 0.304623 + 0.306762 + 0.122686\n",
    "non_remote_workers_who_agree"
   ]
  },
  {
   "cell_type": "markdown",
   "metadata": {},
   "source": [
    "When comparing above figures, it seems that **a higher percentage of people (73%), who don't work much remotely think, it's harder to collaborate with remote peers than on site peers. But a lesser percentage of people (64%) who are actually remote workers agrees that, it's hard to collaborate with peers remotely.**\n",
    "\n",
    "This might be due to the **lack of experience of non-remote workers.**\n",
    "\n",
    "Thus, if an IT company is moving towards working remotely, it's important for that company to raise awareness and introduce flexible/easy to use collaborative tools to employees to change their mindset."
   ]
  }
 ],
 "metadata": {
  "kernelspec": {
   "display_name": "Python 3",
   "language": "python",
   "name": "python3"
  },
  "language_info": {
   "codemirror_mode": {
    "name": "ipython",
    "version": 3
   },
   "file_extension": ".py",
   "mimetype": "text/x-python",
   "name": "python",
   "nbconvert_exporter": "python",
   "pygments_lexer": "ipython3",
   "version": "3.6.7"
  }
 },
 "nbformat": 4,
 "nbformat_minor": 2
}
