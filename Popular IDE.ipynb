{
 "cells": [
  {
   "cell_type": "markdown",
   "metadata": {},
   "source": [
    "### Popular IDE\n",
    "\n",
    "In this Notebook, I'm trying to find out the most popular IDE among the respondants of StackOverflow survey."
   ]
  },
  {
   "cell_type": "code",
   "execution_count": 3,
   "metadata": {},
   "outputs": [
    {
     "data": {
      "text/html": [
       "<div>\n",
       "<style scoped>\n",
       "    .dataframe tbody tr th:only-of-type {\n",
       "        vertical-align: middle;\n",
       "    }\n",
       "\n",
       "    .dataframe tbody tr th {\n",
       "        vertical-align: top;\n",
       "    }\n",
       "\n",
       "    .dataframe thead th {\n",
       "        text-align: right;\n",
       "    }\n",
       "</style>\n",
       "<table border=\"1\" class=\"dataframe\">\n",
       "  <thead>\n",
       "    <tr style=\"text-align: right;\">\n",
       "      <th></th>\n",
       "      <th>Respondent</th>\n",
       "      <th>Professional</th>\n",
       "      <th>ProgramHobby</th>\n",
       "      <th>Country</th>\n",
       "      <th>University</th>\n",
       "      <th>EmploymentStatus</th>\n",
       "      <th>FormalEducation</th>\n",
       "      <th>MajorUndergrad</th>\n",
       "      <th>HomeRemote</th>\n",
       "      <th>CompanySize</th>\n",
       "      <th>...</th>\n",
       "      <th>StackOverflowMakeMoney</th>\n",
       "      <th>Gender</th>\n",
       "      <th>HighestEducationParents</th>\n",
       "      <th>Race</th>\n",
       "      <th>SurveyLong</th>\n",
       "      <th>QuestionsInteresting</th>\n",
       "      <th>QuestionsConfusing</th>\n",
       "      <th>InterestedAnswers</th>\n",
       "      <th>Salary</th>\n",
       "      <th>ExpectedSalary</th>\n",
       "    </tr>\n",
       "  </thead>\n",
       "  <tbody>\n",
       "    <tr>\n",
       "      <th>0</th>\n",
       "      <td>1</td>\n",
       "      <td>Student</td>\n",
       "      <td>Yes, both</td>\n",
       "      <td>United States</td>\n",
       "      <td>No</td>\n",
       "      <td>Not employed, and not looking for work</td>\n",
       "      <td>Secondary school</td>\n",
       "      <td>NaN</td>\n",
       "      <td>NaN</td>\n",
       "      <td>NaN</td>\n",
       "      <td>...</td>\n",
       "      <td>Strongly disagree</td>\n",
       "      <td>Male</td>\n",
       "      <td>High school</td>\n",
       "      <td>White or of European descent</td>\n",
       "      <td>Strongly disagree</td>\n",
       "      <td>Strongly agree</td>\n",
       "      <td>Disagree</td>\n",
       "      <td>Strongly agree</td>\n",
       "      <td>NaN</td>\n",
       "      <td>NaN</td>\n",
       "    </tr>\n",
       "    <tr>\n",
       "      <th>1</th>\n",
       "      <td>2</td>\n",
       "      <td>Student</td>\n",
       "      <td>Yes, both</td>\n",
       "      <td>United Kingdom</td>\n",
       "      <td>Yes, full-time</td>\n",
       "      <td>Employed part-time</td>\n",
       "      <td>Some college/university study without earning ...</td>\n",
       "      <td>Computer science or software engineering</td>\n",
       "      <td>More than half, but not all, the time</td>\n",
       "      <td>20 to 99 employees</td>\n",
       "      <td>...</td>\n",
       "      <td>Strongly disagree</td>\n",
       "      <td>Male</td>\n",
       "      <td>A master's degree</td>\n",
       "      <td>White or of European descent</td>\n",
       "      <td>Somewhat agree</td>\n",
       "      <td>Somewhat agree</td>\n",
       "      <td>Disagree</td>\n",
       "      <td>Strongly agree</td>\n",
       "      <td>NaN</td>\n",
       "      <td>37500.0</td>\n",
       "    </tr>\n",
       "    <tr>\n",
       "      <th>2</th>\n",
       "      <td>3</td>\n",
       "      <td>Professional developer</td>\n",
       "      <td>Yes, both</td>\n",
       "      <td>United Kingdom</td>\n",
       "      <td>No</td>\n",
       "      <td>Employed full-time</td>\n",
       "      <td>Bachelor's degree</td>\n",
       "      <td>Computer science or software engineering</td>\n",
       "      <td>Less than half the time, but at least one day ...</td>\n",
       "      <td>10,000 or more employees</td>\n",
       "      <td>...</td>\n",
       "      <td>Disagree</td>\n",
       "      <td>Male</td>\n",
       "      <td>A professional degree</td>\n",
       "      <td>White or of European descent</td>\n",
       "      <td>Somewhat agree</td>\n",
       "      <td>Agree</td>\n",
       "      <td>Disagree</td>\n",
       "      <td>Agree</td>\n",
       "      <td>113750.0</td>\n",
       "      <td>NaN</td>\n",
       "    </tr>\n",
       "    <tr>\n",
       "      <th>3</th>\n",
       "      <td>4</td>\n",
       "      <td>Professional non-developer who sometimes write...</td>\n",
       "      <td>Yes, both</td>\n",
       "      <td>United States</td>\n",
       "      <td>No</td>\n",
       "      <td>Employed full-time</td>\n",
       "      <td>Doctoral degree</td>\n",
       "      <td>A non-computer-focused engineering discipline</td>\n",
       "      <td>Less than half the time, but at least one day ...</td>\n",
       "      <td>10,000 or more employees</td>\n",
       "      <td>...</td>\n",
       "      <td>Disagree</td>\n",
       "      <td>Male</td>\n",
       "      <td>A doctoral degree</td>\n",
       "      <td>White or of European descent</td>\n",
       "      <td>Agree</td>\n",
       "      <td>Agree</td>\n",
       "      <td>Somewhat agree</td>\n",
       "      <td>Strongly agree</td>\n",
       "      <td>NaN</td>\n",
       "      <td>NaN</td>\n",
       "    </tr>\n",
       "    <tr>\n",
       "      <th>4</th>\n",
       "      <td>5</td>\n",
       "      <td>Professional developer</td>\n",
       "      <td>Yes, I program as a hobby</td>\n",
       "      <td>Switzerland</td>\n",
       "      <td>No</td>\n",
       "      <td>Employed full-time</td>\n",
       "      <td>Master's degree</td>\n",
       "      <td>Computer science or software engineering</td>\n",
       "      <td>Never</td>\n",
       "      <td>10 to 19 employees</td>\n",
       "      <td>...</td>\n",
       "      <td>NaN</td>\n",
       "      <td>NaN</td>\n",
       "      <td>NaN</td>\n",
       "      <td>NaN</td>\n",
       "      <td>NaN</td>\n",
       "      <td>NaN</td>\n",
       "      <td>NaN</td>\n",
       "      <td>NaN</td>\n",
       "      <td>NaN</td>\n",
       "      <td>NaN</td>\n",
       "    </tr>\n",
       "  </tbody>\n",
       "</table>\n",
       "<p>5 rows × 154 columns</p>\n",
       "</div>"
      ],
      "text/plain": [
       "   Respondent                                       Professional  \\\n",
       "0           1                                            Student   \n",
       "1           2                                            Student   \n",
       "2           3                             Professional developer   \n",
       "3           4  Professional non-developer who sometimes write...   \n",
       "4           5                             Professional developer   \n",
       "\n",
       "                ProgramHobby         Country      University  \\\n",
       "0                  Yes, both   United States              No   \n",
       "1                  Yes, both  United Kingdom  Yes, full-time   \n",
       "2                  Yes, both  United Kingdom              No   \n",
       "3                  Yes, both   United States              No   \n",
       "4  Yes, I program as a hobby     Switzerland              No   \n",
       "\n",
       "                         EmploymentStatus  \\\n",
       "0  Not employed, and not looking for work   \n",
       "1                      Employed part-time   \n",
       "2                      Employed full-time   \n",
       "3                      Employed full-time   \n",
       "4                      Employed full-time   \n",
       "\n",
       "                                     FormalEducation  \\\n",
       "0                                   Secondary school   \n",
       "1  Some college/university study without earning ...   \n",
       "2                                  Bachelor's degree   \n",
       "3                                    Doctoral degree   \n",
       "4                                    Master's degree   \n",
       "\n",
       "                                  MajorUndergrad  \\\n",
       "0                                            NaN   \n",
       "1       Computer science or software engineering   \n",
       "2       Computer science or software engineering   \n",
       "3  A non-computer-focused engineering discipline   \n",
       "4       Computer science or software engineering   \n",
       "\n",
       "                                          HomeRemote  \\\n",
       "0                                                NaN   \n",
       "1              More than half, but not all, the time   \n",
       "2  Less than half the time, but at least one day ...   \n",
       "3  Less than half the time, but at least one day ...   \n",
       "4                                              Never   \n",
       "\n",
       "                CompanySize       ...       StackOverflowMakeMoney Gender  \\\n",
       "0                       NaN       ...            Strongly disagree   Male   \n",
       "1        20 to 99 employees       ...            Strongly disagree   Male   \n",
       "2  10,000 or more employees       ...                     Disagree   Male   \n",
       "3  10,000 or more employees       ...                     Disagree   Male   \n",
       "4        10 to 19 employees       ...                          NaN    NaN   \n",
       "\n",
       "  HighestEducationParents                          Race         SurveyLong  \\\n",
       "0             High school  White or of European descent  Strongly disagree   \n",
       "1       A master's degree  White or of European descent     Somewhat agree   \n",
       "2   A professional degree  White or of European descent     Somewhat agree   \n",
       "3       A doctoral degree  White or of European descent              Agree   \n",
       "4                     NaN                           NaN                NaN   \n",
       "\n",
       "  QuestionsInteresting QuestionsConfusing InterestedAnswers    Salary  \\\n",
       "0       Strongly agree           Disagree    Strongly agree       NaN   \n",
       "1       Somewhat agree           Disagree    Strongly agree       NaN   \n",
       "2                Agree           Disagree             Agree  113750.0   \n",
       "3                Agree     Somewhat agree    Strongly agree       NaN   \n",
       "4                  NaN                NaN               NaN       NaN   \n",
       "\n",
       "   ExpectedSalary  \n",
       "0             NaN  \n",
       "1         37500.0  \n",
       "2             NaN  \n",
       "3             NaN  \n",
       "4             NaN  \n",
       "\n",
       "[5 rows x 154 columns]"
      ]
     },
     "execution_count": 3,
     "metadata": {},
     "output_type": "execute_result"
    }
   ],
   "source": [
    "import pandas as pd\n",
    "import numpy as np\n",
    "import matplotlib.pyplot as plt\n",
    "%matplotlib inline\n",
    "\n",
    "df = pd.read_csv('./survey_results_public.csv')\n",
    "df.head()"
   ]
  },
  {
   "cell_type": "code",
   "execution_count": 23,
   "metadata": {},
   "outputs": [
    {
     "data": {
      "text/plain": [
       "19102"
      ]
     },
     "execution_count": 23,
     "metadata": {},
     "output_type": "execute_result"
    }
   ],
   "source": [
    "df.shape[0] #number of rows in the dataset"
   ]
  },
  {
   "cell_type": "markdown",
   "metadata": {},
   "source": [
    "First, lets have a look at the values in IDE column"
   ]
  },
  {
   "cell_type": "code",
   "execution_count": 20,
   "metadata": {},
   "outputs": [
    {
     "data": {
      "text/plain": [
       "Notepad++; Visual Studio                                                                                 610\n",
       "Visual Studio                                                                                            578\n",
       "Vim                                                                                                      501\n",
       "Notepad++; Visual Studio; Visual Studio Code                                                             391\n",
       "Visual Studio; Visual Studio Code                                                                        380\n",
       "Sublime Text                                                                                             344\n",
       "Atom                                                                                                     180\n",
       "Emacs                                                                                                    173\n",
       "Eclipse                                                                                                  165\n",
       "Sublime Text; Vim                                                                                        157\n",
       "Notepad++                                                                                                149\n",
       "IntelliJ                                                                                                 147\n",
       "Notepad++; Eclipse                                                                                       139\n",
       "Vim; IntelliJ                                                                                            124\n",
       "Sublime Text; Visual Studio                                                                              118\n",
       "Xcode                                                                                                    116\n",
       "Atom; Vim                                                                                                110\n",
       "Notepad++; Eclipse; Visual Studio                                                                        101\n",
       "Vim; Eclipse                                                                                              98\n",
       "Sublime Text; Visual Studio; Visual Studio Code                                                           96\n",
       "Visual Studio Code                                                                                        95\n",
       "PHPStorm                                                                                                  85\n",
       "Sublime Text; IntelliJ                                                                                    74\n",
       "Notepad++; Sublime Text; Visual Studio                                                                    70\n",
       "Android Studio                                                                                            69\n",
       "Notepad++; IntelliJ                                                                                       68\n",
       "Atom; Sublime Text                                                                                        65\n",
       "Eclipse; Visual Studio                                                                                    63\n",
       "Atom; Vim; IntelliJ                                                                                       62\n",
       "Sublime Text; Vim; IntelliJ                                                                               61\n",
       "                                                                                                        ... \n",
       "Vim; Eclipse; IntelliJ; PyCharm                                                                            1\n",
       "Atom; Vim; Android Studio; Eclipse; IntelliJ; Komodo; PHPStorm; Zend                                       1\n",
       "Coda; Notepad++; Sublime Text; PHPStorm; PyCharm; Visual Studio; Xcode                                     1\n",
       "Emacs; Notepad++; Sublime Text; Eclipse; IntelliJ; NetBeans; Visual Studio                                 1\n",
       "Notepad++; Vim; Eclipse; RStudio                                                                           1\n",
       "Atom; Notepad++; Eclipse; IntelliJ; IPython / Jupyter; PyCharm; RubyMine                                   1\n",
       "Atom; Coda; Sublime Text; IntelliJ; Xcode                                                                  1\n",
       "Notepad++; Vim; RStudio; Xcode                                                                             1\n",
       "Atom; IntelliJ; PyCharm; Xcode                                                                             1\n",
       "Emacs; Sublime Text; NetBeans                                                                              1\n",
       "Notepad++; Vim; Eclipse; NetBeans; Visual Studio                                                           1\n",
       "Notepad++; Sublime Text; Android Studio; Eclipse; NetBeans; Visual Studio; Visual Studio Code; Xcode       1\n",
       "Sublime Text; IntelliJ; IPython / Jupyter; NetBeans                                                        1\n",
       "Vim; IntelliJ; IPython / Jupyter; Visual Studio; Visual Studio Code                                        1\n",
       "Coda; Eclipse                                                                                              1\n",
       "Atom; Sublime Text; PHPStorm; RubyMine                                                                     1\n",
       "Notepad++; NetBeans; PyCharm; Visual Studio; Visual Studio Code                                            1\n",
       "Notepad++; Eclipse; IntelliJ; PyCharm; RubyMine                                                            1\n",
       "Notepad++; Eclipse; IPython / Jupyter; PyCharm; RStudio; Visual Studio                                     1\n",
       "Emacs; TextMate; Vim; RStudio                                                                              1\n",
       "Notepad++; IntelliJ; Visual Studio; Visual Studio Code; Xcode                                              1\n",
       "Atom; Notepad++; Sublime Text; IntelliJ; PyCharm; Visual Studio Code                                       1\n",
       "Sublime Text; Vim; IntelliJ; PHPStorm; PyCharm; Visual Studio                                              1\n",
       "Atom; Emacs; Notepad++; Vim; Eclipse; PyCharm                                                              1\n",
       "Sublime Text; Android Studio; IPython / Jupyter; Visual Studio; Visual Studio Code                         1\n",
       "Notepad++; Sublime Text; Vim; Android Studio; Eclipse; IntelliJ; Visual Studio; Visual Studio Code         1\n",
       "Sublime Text; Vim; IntelliJ; PHPStorm; Visual Studio Code                                                  1\n",
       "Atom; Notepad++; Android Studio; IntelliJ; PyCharm                                                         1\n",
       "Notepad++; IntelliJ; RubyMine                                                                              1\n",
       "Sublime Text; Android Studio; IntelliJ; IPython / Jupyter; PyCharm; Visual Studio; Visual Studio Code      1\n",
       "Name: IDE, Length: 2490, dtype: int64"
      ]
     },
     "execution_count": 20,
     "metadata": {},
     "output_type": "execute_result"
    }
   ],
   "source": [
    "df.IDE.value_counts()"
   ]
  },
  {
   "cell_type": "code",
   "execution_count": 24,
   "metadata": {},
   "outputs": [
    {
     "data": {
      "text/plain": [
       "0                                           Atom; Xcode\n",
       "1     Atom; Notepad++; Vim; PyCharm; RubyMine; Visua...\n",
       "2                           Sublime Text; Vim; IntelliJ\n",
       "3     Notepad++; Sublime Text; TextMate; Vim; IPytho...\n",
       "4                                                   NaN\n",
       "5                                            Emacs; Vim\n",
       "6     Sublime Text; IPython / Jupyter; Visual Studio...\n",
       "7                                                   Vim\n",
       "8                Vim; Visual Studio; Visual Studio Code\n",
       "9              Coda; Sublime Text; Visual Studio; Xcode\n",
       "10                                        Visual Studio\n",
       "11                                                  NaN\n",
       "12                                                  NaN\n",
       "13                                                  Vim\n",
       "14                                         Emacs; Xcode\n",
       "15                             Notepad++; Visual Studio\n",
       "16                                           Emacs; Vim\n",
       "17                                           Emacs; Vim\n",
       "18                                                  NaN\n",
       "19                                                Emacs\n",
       "Name: IDE, dtype: object"
      ]
     },
     "execution_count": 24,
     "metadata": {},
     "output_type": "execute_result"
    }
   ],
   "source": [
    "df.IDE[:20]   #first 20 values in IDE column"
   ]
  },
  {
   "cell_type": "markdown",
   "metadata": {},
   "source": [
    "It seems that some people haven't responded this survey question. (some rows have NaN)\n",
    "Thus, some cleaning is required.\n",
    "\n",
    "Further, this column has different combinations of answers. Thus, it's important for us to find out the different values, which were provided in the survey.\n",
    "\n",
    "In order to do that, lets first remove the rows which are missing IDE."
   ]
  },
  {
   "cell_type": "code",
   "execution_count": 38,
   "metadata": {},
   "outputs": [
    {
     "data": {
      "text/plain": [
       "13197"
      ]
     },
     "execution_count": 38,
     "metadata": {},
     "output_type": "execute_result"
    }
   ],
   "source": [
    "df_drop = df.dropna(subset=['IDE'], axis=0)\n",
    "df_drop.shape[0]   #number of rows after dropping rows with missing IDE values"
   ]
  },
  {
   "cell_type": "markdown",
   "metadata": {},
   "source": [
    "Around 5905 people haven't responded to this particular question.\n",
    "\n",
    "Now it's time to find out the set of values which were available on the questionnare.\n",
    "\n",
    "In order to do that, we have to do some processing."
   ]
  },
  {
   "cell_type": "code",
   "execution_count": 39,
   "metadata": {},
   "outputs": [
    {
     "data": {
      "text/plain": [
       "array(['Atom; Xcode',\n",
       "       'Atom; Notepad++; Vim; PyCharm; RubyMine; Visual Studio; Visual Studio Code',\n",
       "       'Sublime Text; Vim; IntelliJ', ...,\n",
       "       'Atom; Emacs; Sublime Text; IntelliJ; PHPStorm; PyCharm',\n",
       "       'Emacs; Notepad++; Android Studio; IPython / Jupyter; RStudio; Visual Studio',\n",
       "       'Atom; Emacs; Eclipse; IntelliJ'], dtype=object)"
      ]
     },
     "execution_count": 39,
     "metadata": {},
     "output_type": "execute_result"
    }
   ],
   "source": [
    "arr = df_drop.IDE.unique()   #get the unique values in IDE column\n",
    "arr"
   ]
  },
  {
   "cell_type": "code",
   "execution_count": 42,
   "metadata": {},
   "outputs": [
    {
     "name": "stdout",
     "output_type": "stream",
     "text": [
      "['Atom', 'Xcode', 'Notepad++', 'Vim', 'PyCharm', 'RubyMine', 'Visual Studio', 'Visual Studio Code', 'Sublime Text', 'IntelliJ', 'TextMate', 'IPython / Jupyter', 'NetBeans', 'Emacs', 'Coda', 'PHPStorm', 'Android Studio', 'RStudio', 'Komodo', 'Eclipse', 'Light Table', 'Zend']\n"
     ]
    }
   ],
   "source": [
    "ide_types = []\n",
    "split_arr = []\n",
    "\n",
    "for a in arr:\n",
    "    split_arr = a.split('; ')\n",
    "    \n",
    "    for split_s in split_arr:\n",
    "        if split_s not in ide_types:\n",
    "            ide_types.append(split_s)\n",
    "    \n",
    "print(ide_types)"
   ]
  },
  {
   "cell_type": "markdown",
   "metadata": {},
   "source": [
    "Above is the list of IDEs which were available in the survey.\n",
    "\n",
    "Below, we're creating a dictionary to hold the usage of each IDE, against the IDE name. Usage of all IDEs are initialized to zero (0)."
   ]
  },
  {
   "cell_type": "code",
   "execution_count": 61,
   "metadata": {},
   "outputs": [
    {
     "name": "stdout",
     "output_type": "stream",
     "text": [
      "{'Atom': 0, 'Xcode': 0, 'Notepad++': 0, 'Vim': 0, 'PyCharm': 0, 'RubyMine': 0, 'Visual Studio': 0, 'Visual Studio Code': 0, 'Sublime Text': 0, 'IntelliJ': 0, 'TextMate': 0, 'IPython / Jupyter': 0, 'NetBeans': 0, 'Emacs': 0, 'Coda': 0, 'PHPStorm': 0, 'Android Studio': 0, 'RStudio': 0, 'Komodo': 0, 'Eclipse': 0, 'Light Table': 0, 'Zend': 0}\n"
     ]
    }
   ],
   "source": [
    "ide_count_map = {}\n",
    "\n",
    "for t in ide_types:\n",
    "    ide_count_map.update( {t : 0} )\n",
    "    \n",
    "print(ide_count_map)"
   ]
  },
  {
   "cell_type": "code",
   "execution_count": 62,
   "metadata": {},
   "outputs": [
    {
     "data": {
      "text/plain": [
       "{'Android Studio': 1929,\n",
       " 'Atom': 2373,\n",
       " 'Coda': 82,\n",
       " 'Eclipse': 2620,\n",
       " 'Emacs': 789,\n",
       " 'IPython / Jupyter': 733,\n",
       " 'IntelliJ': 2786,\n",
       " 'Komodo': 81,\n",
       " 'Light Table': 25,\n",
       " 'NetBeans': 906,\n",
       " 'Notepad++': 4405,\n",
       " 'PHPStorm': 995,\n",
       " 'PyCharm': 1205,\n",
       " 'RStudio': 390,\n",
       " 'RubyMine': 233,\n",
       " 'Sublime Text': 3505,\n",
       " 'TextMate': 188,\n",
       " 'Vim': 3739,\n",
       " 'Visual Studio': 5061,\n",
       " 'Visual Studio Code': 2691,\n",
       " 'Xcode': 1335,\n",
       " 'Zend': 44}"
      ]
     },
     "execution_count": 62,
     "metadata": {},
     "output_type": "execute_result"
    }
   ],
   "source": [
    "def get_ide_counts(df, ide_count_map):\n",
    "    '''\n",
    "    INPUT\n",
    "    df - pandas dataframe\n",
    "    ide_count_map - a dictionary with ide names and counts initialized to 0\n",
    "    \n",
    "    OUTPUT\n",
    "    ide_map - a dictionary containing counts for each ide (key: ide, value: count)\n",
    "    \n",
    "    Steps:\n",
    "    1.Slice out IDE column from the dataframe\n",
    "    2.For each value in the column, split each IDE name\n",
    "    3.For each IDE name in the splitted list, update the usage/count in dictionary \n",
    "    '''\n",
    "    \n",
    "    df_ide = df['IDE']   #slice out IDE column\n",
    "    \n",
    "    for val in df_ide:\n",
    "        split_arr = val.split('; ')\n",
    "        \n",
    "        for ide in split_arr:  \n",
    "            ide_count_map[ide] = ide_count_map[ide] + 1\n",
    "            \n",
    "    return ide_count_map\n",
    "\n",
    "get_ide_counts(df_drop, ide_count_map)"
   ]
  },
  {
   "cell_type": "code",
   "execution_count": 72,
   "metadata": {},
   "outputs": [
    {
     "data": {
      "image/png": "[encoded data removed]",
      "text/plain": [
       "<matplotlib.figure.Figure at 0x115b5d4e0>"
      ]
     },
     "metadata": {},
     "output_type": "display_data"
    }
   ],
   "source": [
    "ide_names = list(ide_count_map.keys())\n",
    "values = list(ide_count_map.values())\n",
    "\n",
    "#tick_label does the some work as plt.xticks()\n",
    "plt.bar(range(len(ide_count_map)),values,tick_label=ide_names)\n",
    "plt.title('Popular IDE')\n",
    "\n",
    "N = 2\n",
    "params = plt.gcf()\n",
    "plSize = params.get_size_inches()\n",
    "params.set_size_inches( (plSize[0]*N, plSize[1]*N) )\n",
    "\n",
    "plt.xticks(rotation='vertical')\n",
    "plt.show()"
   ]
  },
  {
   "cell_type": "code",
   "execution_count": 73,
   "metadata": {},
   "outputs": [
    {
     "data": {
      "text/plain": [
       "[('Visual Studio', 5061),\n",
       " ('Notepad++', 4405),\n",
       " ('Vim', 3739),\n",
       " ('Sublime Text', 3505),\n",
       " ('IntelliJ', 2786),\n",
       " ('Visual Studio Code', 2691),\n",
       " ('Eclipse', 2620),\n",
       " ('Atom', 2373),\n",
       " ('Android Studio', 1929),\n",
       " ('Xcode', 1335),\n",
       " ('PyCharm', 1205),\n",
       " ('PHPStorm', 995),\n",
       " ('NetBeans', 906),\n",
       " ('Emacs', 789),\n",
       " ('IPython / Jupyter', 733),\n",
       " ('RStudio', 390),\n",
       " ('RubyMine', 233),\n",
       " ('TextMate', 188),\n",
       " ('Coda', 82),\n",
       " ('Komodo', 81),\n",
       " ('Zend', 44),\n",
       " ('Light Table', 25)]"
      ]
     },
     "execution_count": 73,
     "metadata": {},
     "output_type": "execute_result"
    }
   ],
   "source": [
    "sorted(ide_count_map.items(), key=lambda x: x[1], reverse=True)"
   ]
  },
  {
   "cell_type": "markdown",
   "metadata": {},
   "source": [
    "According to the above analysis, 5 mostly used IDEs are; Visual Studio, Notepad++, Vim, Sublime Text and IntelliJ"
   ]
  }
 ],
 "metadata": {
  "kernelspec": {
   "display_name": "Python 3",
   "language": "python",
   "name": "python3"
  },
  "language_info": {
   "codemirror_mode": {
    "name": "ipython",
    "version": 3
   },
   "file_extension": ".py",
   "mimetype": "text/x-python",
   "name": "python",
   "nbconvert_exporter": "python",
   "pygments_lexer": "ipython3",
   "version": "3.6.7"
  }
 },
 "nbformat": 4,
 "nbformat_minor": 2
}
