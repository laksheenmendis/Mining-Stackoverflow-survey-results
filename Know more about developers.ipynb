{
 "cells": [
  {
   "cell_type": "markdown",
   "metadata": {},
   "source": [
    "Software developers/programmers are a set of people, without whom the world cannot survive in 21st century. \n",
    "Hence, I was interested in finding out few important facts about Software developers using the Stackoverflow survey results, which were readily available. \n",
    "\n",
    "These include;\n",
    "\n",
    "    Is collaborating with remote peers harder than those on site?\n",
    "    \n",
    "    What is the mostly used IDE?\n",
    "    \n",
    "    Things which matter for Career Satisfaction\n",
    "    \n",
    "Thus, Cross-Industry Standard Process for Data Mining (CRISP-DM) was used to find answers for above questions. Please find the steps followed and results received in each analysis.\n",
    "    "
   ]
  },
  {
   "cell_type": "code",
   "execution_count": 17,
   "metadata": {},
   "outputs": [
    {
     "data": {
      "text/html": [
       "<div>\n",
       "<style scoped>\n",
       "    .dataframe tbody tr th:only-of-type {\n",
       "        vertical-align: middle;\n",
       "    }\n",
       "\n",
       "    .dataframe tbody tr th {\n",
       "        vertical-align: top;\n",
       "    }\n",
       "\n",
       "    .dataframe thead th {\n",
       "        text-align: right;\n",
       "    }\n",
       "</style>\n",
       "<table border=\"1\" class=\"dataframe\">\n",
       "  <thead>\n",
       "    <tr style=\"text-align: right;\">\n",
       "      <th></th>\n",
       "      <th>Respondent</th>\n",
       "      <th>Professional</th>\n",
       "      <th>ProgramHobby</th>\n",
       "      <th>Country</th>\n",
       "      <th>University</th>\n",
       "      <th>EmploymentStatus</th>\n",
       "      <th>FormalEducation</th>\n",
       "      <th>MajorUndergrad</th>\n",
       "      <th>HomeRemote</th>\n",
       "      <th>CompanySize</th>\n",
       "      <th>...</th>\n",
       "      <th>StackOverflowMakeMoney</th>\n",
       "      <th>Gender</th>\n",
       "      <th>HighestEducationParents</th>\n",
       "      <th>Race</th>\n",
       "      <th>SurveyLong</th>\n",
       "      <th>QuestionsInteresting</th>\n",
       "      <th>QuestionsConfusing</th>\n",
       "      <th>InterestedAnswers</th>\n",
       "      <th>Salary</th>\n",
       "      <th>ExpectedSalary</th>\n",
       "    </tr>\n",
       "  </thead>\n",
       "  <tbody>\n",
       "    <tr>\n",
       "      <th>0</th>\n",
       "      <td>1</td>\n",
       "      <td>Student</td>\n",
       "      <td>Yes, both</td>\n",
       "      <td>United States</td>\n",
       "      <td>No</td>\n",
       "      <td>Not employed, and not looking for work</td>\n",
       "      <td>Secondary school</td>\n",
       "      <td>NaN</td>\n",
       "      <td>NaN</td>\n",
       "      <td>NaN</td>\n",
       "      <td>...</td>\n",
       "      <td>Strongly disagree</td>\n",
       "      <td>Male</td>\n",
       "      <td>High school</td>\n",
       "      <td>White or of European descent</td>\n",
       "      <td>Strongly disagree</td>\n",
       "      <td>Strongly agree</td>\n",
       "      <td>Disagree</td>\n",
       "      <td>Strongly agree</td>\n",
       "      <td>NaN</td>\n",
       "      <td>NaN</td>\n",
       "    </tr>\n",
       "    <tr>\n",
       "      <th>1</th>\n",
       "      <td>2</td>\n",
       "      <td>Student</td>\n",
       "      <td>Yes, both</td>\n",
       "      <td>United Kingdom</td>\n",
       "      <td>Yes, full-time</td>\n",
       "      <td>Employed part-time</td>\n",
       "      <td>Some college/university study without earning ...</td>\n",
       "      <td>Computer science or software engineering</td>\n",
       "      <td>More than half, but not all, the time</td>\n",
       "      <td>20 to 99 employees</td>\n",
       "      <td>...</td>\n",
       "      <td>Strongly disagree</td>\n",
       "      <td>Male</td>\n",
       "      <td>A master's degree</td>\n",
       "      <td>White or of European descent</td>\n",
       "      <td>Somewhat agree</td>\n",
       "      <td>Somewhat agree</td>\n",
       "      <td>Disagree</td>\n",
       "      <td>Strongly agree</td>\n",
       "      <td>NaN</td>\n",
       "      <td>37500.0</td>\n",
       "    </tr>\n",
       "    <tr>\n",
       "      <th>2</th>\n",
       "      <td>3</td>\n",
       "      <td>Professional developer</td>\n",
       "      <td>Yes, both</td>\n",
       "      <td>United Kingdom</td>\n",
       "      <td>No</td>\n",
       "      <td>Employed full-time</td>\n",
       "      <td>Bachelor's degree</td>\n",
       "      <td>Computer science or software engineering</td>\n",
       "      <td>Less than half the time, but at least one day ...</td>\n",
       "      <td>10,000 or more employees</td>\n",
       "      <td>...</td>\n",
       "      <td>Disagree</td>\n",
       "      <td>Male</td>\n",
       "      <td>A professional degree</td>\n",
       "      <td>White or of European descent</td>\n",
       "      <td>Somewhat agree</td>\n",
       "      <td>Agree</td>\n",
       "      <td>Disagree</td>\n",
       "      <td>Agree</td>\n",
       "      <td>113750.0</td>\n",
       "      <td>NaN</td>\n",
       "    </tr>\n",
       "    <tr>\n",
       "      <th>3</th>\n",
       "      <td>4</td>\n",
       "      <td>Professional non-developer who sometimes write...</td>\n",
       "      <td>Yes, both</td>\n",
       "      <td>United States</td>\n",
       "      <td>No</td>\n",
       "      <td>Employed full-time</td>\n",
       "      <td>Doctoral degree</td>\n",
       "      <td>A non-computer-focused engineering discipline</td>\n",
       "      <td>Less than half the time, but at least one day ...</td>\n",
       "      <td>10,000 or more employees</td>\n",
       "      <td>...</td>\n",
       "      <td>Disagree</td>\n",
       "      <td>Male</td>\n",
       "      <td>A doctoral degree</td>\n",
       "      <td>White or of European descent</td>\n",
       "      <td>Agree</td>\n",
       "      <td>Agree</td>\n",
       "      <td>Somewhat agree</td>\n",
       "      <td>Strongly agree</td>\n",
       "      <td>NaN</td>\n",
       "      <td>NaN</td>\n",
       "    </tr>\n",
       "    <tr>\n",
       "      <th>4</th>\n",
       "      <td>5</td>\n",
       "      <td>Professional developer</td>\n",
       "      <td>Yes, I program as a hobby</td>\n",
       "      <td>Switzerland</td>\n",
       "      <td>No</td>\n",
       "      <td>Employed full-time</td>\n",
       "      <td>Master's degree</td>\n",
       "      <td>Computer science or software engineering</td>\n",
       "      <td>Never</td>\n",
       "      <td>10 to 19 employees</td>\n",
       "      <td>...</td>\n",
       "      <td>NaN</td>\n",
       "      <td>NaN</td>\n",
       "      <td>NaN</td>\n",
       "      <td>NaN</td>\n",
       "      <td>NaN</td>\n",
       "      <td>NaN</td>\n",
       "      <td>NaN</td>\n",
       "      <td>NaN</td>\n",
       "      <td>NaN</td>\n",
       "      <td>NaN</td>\n",
       "    </tr>\n",
       "  </tbody>\n",
       "</table>\n",
       "<p>5 rows × 154 columns</p>\n",
       "</div>"
      ],
      "text/plain": [
       "   Respondent                                       Professional  \\\n",
       "0           1                                            Student   \n",
       "1           2                                            Student   \n",
       "2           3                             Professional developer   \n",
       "3           4  Professional non-developer who sometimes write...   \n",
       "4           5                             Professional developer   \n",
       "\n",
       "                ProgramHobby         Country      University  \\\n",
       "0                  Yes, both   United States              No   \n",
       "1                  Yes, both  United Kingdom  Yes, full-time   \n",
       "2                  Yes, both  United Kingdom              No   \n",
       "3                  Yes, both   United States              No   \n",
       "4  Yes, I program as a hobby     Switzerland              No   \n",
       "\n",
       "                         EmploymentStatus  \\\n",
       "0  Not employed, and not looking for work   \n",
       "1                      Employed part-time   \n",
       "2                      Employed full-time   \n",
       "3                      Employed full-time   \n",
       "4                      Employed full-time   \n",
       "\n",
       "                                     FormalEducation  \\\n",
       "0                                   Secondary school   \n",
       "1  Some college/university study without earning ...   \n",
       "2                                  Bachelor's degree   \n",
       "3                                    Doctoral degree   \n",
       "4                                    Master's degree   \n",
       "\n",
       "                                  MajorUndergrad  \\\n",
       "0                                            NaN   \n",
       "1       Computer science or software engineering   \n",
       "2       Computer science or software engineering   \n",
       "3  A non-computer-focused engineering discipline   \n",
       "4       Computer science or software engineering   \n",
       "\n",
       "                                          HomeRemote  \\\n",
       "0                                                NaN   \n",
       "1              More than half, but not all, the time   \n",
       "2  Less than half the time, but at least one day ...   \n",
       "3  Less than half the time, but at least one day ...   \n",
       "4                                              Never   \n",
       "\n",
       "                CompanySize       ...       StackOverflowMakeMoney Gender  \\\n",
       "0                       NaN       ...            Strongly disagree   Male   \n",
       "1        20 to 99 employees       ...            Strongly disagree   Male   \n",
       "2  10,000 or more employees       ...                     Disagree   Male   \n",
       "3  10,000 or more employees       ...                     Disagree   Male   \n",
       "4        10 to 19 employees       ...                          NaN    NaN   \n",
       "\n",
       "  HighestEducationParents                          Race         SurveyLong  \\\n",
       "0             High school  White or of European descent  Strongly disagree   \n",
       "1       A master's degree  White or of European descent     Somewhat agree   \n",
       "2   A professional degree  White or of European descent     Somewhat agree   \n",
       "3       A doctoral degree  White or of European descent              Agree   \n",
       "4                     NaN                           NaN                NaN   \n",
       "\n",
       "  QuestionsInteresting QuestionsConfusing InterestedAnswers    Salary  \\\n",
       "0       Strongly agree           Disagree    Strongly agree       NaN   \n",
       "1       Somewhat agree           Disagree    Strongly agree       NaN   \n",
       "2                Agree           Disagree             Agree  113750.0   \n",
       "3                Agree     Somewhat agree    Strongly agree       NaN   \n",
       "4                  NaN                NaN               NaN       NaN   \n",
       "\n",
       "   ExpectedSalary  \n",
       "0             NaN  \n",
       "1         37500.0  \n",
       "2             NaN  \n",
       "3             NaN  \n",
       "4             NaN  \n",
       "\n",
       "[5 rows x 154 columns]"
      ]
     },
     "execution_count": 17,
     "metadata": {},
     "output_type": "execute_result"
    }
   ],
   "source": [
    "#first we will read in the csv files and have a look at the data\n",
    "\n",
    "import pandas as pd\n",
    "import numpy as np\n",
    "import matplotlib.pyplot as plt\n",
    "from collections import defaultdict\n",
    "from sklearn.linear_model import LinearRegression\n",
    "from sklearn.model_selection import train_test_split\n",
    "from sklearn.metrics import r2_score, mean_squared_error\n",
    "%matplotlib inline\n",
    "\n",
    "df = pd.read_csv('./survey_results_public.csv')\n",
    "schema = pd.read_csv('./survey_results_schema.csv')\n",
    "df.head()"
   ]
  },
  {
   "cell_type": "code",
   "execution_count": 39,
   "metadata": {},
   "outputs": [
    {
     "data": {
      "text/plain": [
       "(19102, 154)"
      ]
     },
     "execution_count": 39,
     "metadata": {},
     "output_type": "execute_result"
    }
   ],
   "source": [
    "df.shape"
   ]
  },
  {
   "cell_type": "markdown",
   "metadata": {},
   "source": [
    "Thus, 19102 responses are there for 154 various questions."
   ]
  },
  {
   "cell_type": "markdown",
   "metadata": {},
   "source": [
    "### 1.Remote Working\n",
    "\n",
    "Here I'm trying to figure out whether **respondants who mostly work remotely have a different view point to that of non/rare remote workers, on collaborating with peers remotely versus on site**\n",
    "\n",
    "In the dataset, there are 2 columns which relate to working remotely; **HomeRemote and CollaborateRemote**"
   ]
  },
  {
   "cell_type": "code",
   "execution_count": 23,
   "metadata": {},
   "outputs": [
    {
     "name": "stdout",
     "output_type": "stream",
     "text": [
      "It's harder to collaborate with remote peers than those on site\n",
      "How often do you work from home or remotely?\n"
     ]
    }
   ],
   "source": [
    "#here we're getting the descriptions of HomeRemote and CollaborateRemote columns\n",
    "\n",
    "def get_description(column_name, schema=schema):\n",
    "    '''\n",
    "    INPUT - schema - pandas dataframe with the schema of the developers survey\n",
    "            column_name - string - the name of the column you would like to know about\n",
    "    OUTPUT - \n",
    "            desc - string - the description of the column\n",
    "    '''\n",
    "    desc = list(schema[schema['Column']==column_name]['Question'])[0]\n",
    "    return desc\n",
    "\n",
    "print(get_description('CollaborateRemote'))\n",
    "print(get_description('HomeRemote'))"
   ]
  },
  {
   "cell_type": "code",
   "execution_count": 18,
   "metadata": {},
   "outputs": [
    {
     "name": "stdout",
     "output_type": "stream",
     "text": [
      "2631\n",
      "16471\n"
     ]
    }
   ],
   "source": [
    "#make a deep copy of the dataframe, thus, same original dataframe could be used for analysing other questions\n",
    "remote_df = df.copy()\n",
    "\n",
    "#it's important to find out how many values are missing in HomeRemote column\n",
    "#isnull() is used for this purpose, it returns True if the value is missing and False otherwise\n",
    "\n",
    "print(sum(remote_df.HomeRemote.isnull()==1))  #count of missing values in HomeRemote column\n",
    "\n",
    "print(sum(remote_df.HomeRemote.isnull()==0))  #count of present valuse in HomeRemote column"
   ]
  },
  {
   "cell_type": "markdown",
   "metadata": {},
   "source": [
    "Let's take a look at HomeRemote column in more detail to find out the set of values in that column"
   ]
  },
  {
   "cell_type": "code",
   "execution_count": 21,
   "metadata": {},
   "outputs": [
    {
     "name": "stdout",
     "output_type": "stream",
     "text": [
      "A few days each month                                      5876\n",
      "Never                                                      5288\n",
      "NaN                                                        2631\n",
      "All or almost all the time (I'm full-time remote)          1922\n",
      "Less than half the time, but at least one day each week    1464\n",
      "More than half, but not all, the time                       676\n",
      "It's complicated                                            633\n",
      "About half the time                                         612\n",
      "Name: HomeRemote, dtype: int64\n"
     ]
    },
    {
     "data": {
      "image/png": "[encoded data removed]",
      "text/plain": [
       "<matplotlib.figure.Figure at 0x10ec3acc0>"
      ]
     },
     "metadata": {},
     "output_type": "display_data"
    }
   ],
   "source": [
    "remote_working_vals = remote_df.HomeRemote.value_counts(dropna=False)\n",
    "\n",
    "print(remote_working_vals)\n",
    "\n",
    "#below is a bar chart of the proportion of individuals in each remote working category \n",
    "\n",
    "(remote_working_vals/remote_df.shape[0]).plot(kind=\"bar\");\n",
    "plt.title(\"How often do you work remotely?\");"
   ]
  },
  {
   "cell_type": "markdown",
   "metadata": {},
   "source": [
    "Let's take a look at CollaborateRemote column in more detail to find out the set of values in that column"
   ]
  },
  {
   "cell_type": "code",
   "execution_count": 25,
   "metadata": {},
   "outputs": [
    {
     "name": "stdout",
     "output_type": "stream",
     "text": [
      "NaN                  7972\n",
      "Somewhat agree       3404\n",
      "Agree                3388\n",
      "Disagree             2374\n",
      "Strongly agree       1341\n",
      "Strongly disagree     623\n",
      "Name: CollaborateRemote, dtype: int64\n"
     ]
    },
    {
     "data": {
      "image/png": "[encoded data removed]",
      "text/plain": [
       "<matplotlib.figure.Figure at 0x1146cd630>"
      ]
     },
     "metadata": {},
     "output_type": "display_data"
    }
   ],
   "source": [
    "collab_remote = remote_df.CollaborateRemote.value_counts(dropna=False)\n",
    "\n",
    "print(collab_remote)\n",
    "\n",
    "(collab_remote/remote_df.shape[0]).plot(kind=\"bar\");\n",
    "plt.title(\"How hard it is to Collaborate with remote peers?\");"
   ]
  },
  {
   "cell_type": "markdown",
   "metadata": {},
   "source": [
    "According to above graphs, it is clear that around 14% and 42% values are missing in HomeRemote and CollaborateRemote columns respectively. Hence, it's important to do some data preparation to handle missing values.\n",
    "\n",
    "When it comes to missing values in HomeRemote column, I believe respondants have skipped that question because\n",
    "they are not much familiar with this concept. Hence, I'm categorizing them with Respondants who don't work remotely.\n",
    "\n",
    "However, \n"
   ]
  },
  {
   "cell_type": "code",
   "execution_count": 27,
   "metadata": {},
   "outputs": [],
   "source": [
    "# now respondants of the survey are divided into 2 main categories based on the time they work remotely\n",
    "# 1. Respondants who work remote often (wor)\n",
    "# 2. Respondants who don't work remotely/very rarely\n",
    "\n",
    "remote_status = ['All or almost all the time (I''m full-time remote)','More than half, but not all, the time','About half the time ']\n",
    "non_remote_status = ['NaN', 'A few days each month','Never','Less than half the time, but at least one day each week','It''s complicated']\n",
    "\n",
    "def works_remotely(home_remote_str):\n",
    "    '''\n",
    "    INPUT\n",
    "        home_remote_str - a string of one of the values from the HomeRemote column\n",
    "    \n",
    "    OUTPUT\n",
    "        return 1 if the string is  in remote_status list\n",
    "        return 0 otherwise\n",
    "    \n",
    "    '''\n",
    "    if home_remote_str in remote_status:\n",
    "        return 1\n",
    "    else:\n",
    "        return 0\n"
   ]
  },
  {
   "cell_type": "code",
   "execution_count": 28,
   "metadata": {},
   "outputs": [],
   "source": [
    "remote_df['RemoteWorker']=remote_df[\"HomeRemote\"].apply(works_remotely)"
   ]
  },
  {
   "cell_type": "code",
   "execution_count": 30,
   "metadata": {},
   "outputs": [
    {
     "data": {
      "text/plain": [
       "0    18426\n",
       "1      676\n",
       "Name: RemoteWorker, dtype: int64"
      ]
     },
     "execution_count": 30,
     "metadata": {},
     "output_type": "execute_result"
    }
   ],
   "source": [
    "remote_df.RemoteWorker.value_counts(dropna=False)"
   ]
  },
  {
   "cell_type": "markdown",
   "metadata": {},
   "source": [
    "Now we would like to find out if the proportion of respondants who work remote mostly, feel differently than those that do not. \n",
    "\n",
    "Store a dataframe of only the individual's who had RemoteWorker equal to 1 in remote_rows. Similarly, store a dataframe of only the RemoteWorker equal to 0 values in non_remote_rows."
   ]
  },
  {
   "cell_type": "code",
   "execution_count": 7,
   "metadata": {},
   "outputs": [],
   "source": [
    "remote_rows = df[df['RemoteWorker']==1]      # Subset df to only those who work remote often\n",
    "non_remote_rows = df[df['RemoteWorker']==0]  # Subset df to only those who don't work remotely/very rarely"
   ]
  },
  {
   "cell_type": "code",
   "execution_count": 8,
   "metadata": {},
   "outputs": [],
   "source": [
    "def total_count(df, col1, col2, look_for):\n",
    "    '''\n",
    "    INPUT:\n",
    "    df - the pandas dataframe you want to search\n",
    "    col1 - the column name you want to look through\n",
    "    col2 - the column you want to count values from\n",
    "    look_for - a list of strings you want to search for in each row of df[col]\n",
    "\n",
    "    OUTPUT:\n",
    "    new_df - a dataframe of each look_for with the count of how often it shows up\n",
    "    '''\n",
    "    new_df = defaultdict(int)\n",
    "    #loop through list of ed types\n",
    "    for val in look_for:\n",
    "        #loop through rows\n",
    "        for idx in range(df.shape[0]):\n",
    "            #if the ed type is in the row add 1\n",
    "            if val in df[col1][idx]:\n",
    "                new_df[val] += int(df[col2][idx])\n",
    "    new_df = pd.DataFrame(pd.Series(new_df)).reset_index()\n",
    "    new_df.columns = [col1, col2]\n",
    "    new_df.sort_values('count', ascending=False, inplace=True)\n",
    "    return new_df"
   ]
  },
  {
   "cell_type": "code",
   "execution_count": 9,
   "metadata": {},
   "outputs": [],
   "source": [
    "#possible values in CollaborateRemote column\n",
    "possible_vals = [\"Somewhat agree\", \"Agree\", \"Disagree\", \"Strongly agree\", \"Strongly disagree\"]\n",
    "\n",
    "def clean_and_plot(df, title, plot=True):\n",
    "    '''\n",
    "    INPUT \n",
    "        df - a dataframe holding the CollaborateRemote column\n",
    "        title - string the title of your plot\n",
    "        axis - axis object\n",
    "        plot - bool providing whether or not you want a plot back\n",
    "        \n",
    "    OUTPUT\n",
    "        remote_df - a dataframe with the count of how many individuals\n",
    "        Displays a plot of pretty things related to the CollaborateRemote column.\n",
    "    '''\n",
    "    view = df['CollaborateRemote'].value_counts().reset_index()\n",
    "    view.rename(columns={'index': 'method', 'CollaborateRemote': 'count'}, inplace=True)\n",
    "    remote_df = total_count(view, 'method', 'count', possible_vals)\n",
    "\n",
    "    remote_df.set_index('method', inplace=True)\n",
    "    if plot:\n",
    "        (remote_df/remote_df.sum()).plot(kind='bar', legend=None);\n",
    "        plt.title(title);\n",
    "        plt.show()\n",
    "    props_remote_df = remote_df/remote_df.sum()\n",
    "    return props_remote_df"
   ]
  },
  {
   "cell_type": "code",
   "execution_count": 10,
   "metadata": {},
   "outputs": [
    {
     "data": {
      "text/html": [
       "<style  type=\"text/css\" >\n",
       "    #T_7b7d8268_b6d2_11e9_86d5_8c859075646erow0_col2 {\n",
       "            width:  10em;\n",
       "             height:  80%;\n",
       "            background:  linear-gradient(90deg, transparent 0%, transparent 44.9%, #5fba7d 44.9%, #5fba7d 68.0%, transparent 68.0%);\n",
       "        }    #T_7b7d8268_b6d2_11e9_86d5_8c859075646erow1_col2 {\n",
       "            width:  10em;\n",
       "             height:  80%;\n",
       "            background:  linear-gradient(90deg, transparent 0%, transparent 44.9%, #5fba7d 44.9%, #5fba7d 100.0%, transparent 100.0%);\n",
       "        }    #T_7b7d8268_b6d2_11e9_86d5_8c859075646erow2_col2 {\n",
       "            width:  10em;\n",
       "             height:  80%;\n",
       "            background:  linear-gradient(90deg, transparent 0%, transparent -0.0%, #d65f5f -0.0%, #d65f5f 44.9%, transparent 44.9%);\n",
       "        }    #T_7b7d8268_b6d2_11e9_86d5_8c859075646erow3_col2 {\n",
       "            width:  10em;\n",
       "             height:  80%;\n",
       "            background:  linear-gradient(90deg, transparent 0%, transparent 44.9%, #5fba7d 44.9%, #5fba7d 53.3%, transparent 53.3%);\n",
       "        }    #T_7b7d8268_b6d2_11e9_86d5_8c859075646erow4_col2 {\n",
       "            width:  10em;\n",
       "             height:  80%;\n",
       "            background:  linear-gradient(90deg, transparent 0%, transparent 3.0%, #d65f5f 3.0%, #d65f5f 44.9%, transparent 44.9%);\n",
       "        }</style>  \n",
       "<table id=\"T_7b7d8268_b6d2_11e9_86d5_8c859075646e\" > \n",
       "<thead>    <tr> \n",
       "        <th class=\"blank level0\" ></th> \n",
       "        <th class=\"col_heading level0 col0\" >remote_perc</th> \n",
       "        <th class=\"col_heading level0 col1\" >non_remote_perc</th> \n",
       "        <th class=\"col_heading level0 col2\" >Diff_Remote_Vals</th> \n",
       "    </tr>    <tr> \n",
       "        <th class=\"index_name level0\" >method</th> \n",
       "        <th class=\"blank\" ></th> \n",
       "        <th class=\"blank\" ></th> \n",
       "        <th class=\"blank\" ></th> \n",
       "    </tr></thead> \n",
       "<tbody>    <tr> \n",
       "        <th id=\"T_7b7d8268_b6d2_11e9_86d5_8c859075646elevel0_row0\" class=\"row_heading level0 row0\" >Somewhat agree</th> \n",
       "        <td id=\"T_7b7d8268_b6d2_11e9_86d5_8c859075646erow0_col0\" class=\"data row0 col0\" >0.340369</td> \n",
       "        <td id=\"T_7b7d8268_b6d2_11e9_86d5_8c859075646erow0_col1\" class=\"data row0 col1\" >0.304623</td> \n",
       "        <td id=\"T_7b7d8268_b6d2_11e9_86d5_8c859075646erow0_col2\" class=\"data row0 col2\" >0.0357466</td> \n",
       "    </tr>    <tr> \n",
       "        <th id=\"T_7b7d8268_b6d2_11e9_86d5_8c859075646elevel0_row1\" class=\"row_heading level0 row1\" >Disagree</th> \n",
       "        <td id=\"T_7b7d8268_b6d2_11e9_86d5_8c859075646erow1_col0\" class=\"data row1 col0\" >0.295515</td> \n",
       "        <td id=\"T_7b7d8268_b6d2_11e9_86d5_8c859075646erow1_col1\" class=\"data row1 col1\" >0.210399</td> \n",
       "        <td id=\"T_7b7d8268_b6d2_11e9_86d5_8c859075646erow1_col2\" class=\"data row1 col2\" >0.0851155</td> \n",
       "    </tr>    <tr> \n",
       "        <th id=\"T_7b7d8268_b6d2_11e9_86d5_8c859075646elevel0_row2\" class=\"row_heading level0 row2\" >Agree</th> \n",
       "        <td id=\"T_7b7d8268_b6d2_11e9_86d5_8c859075646erow2_col0\" class=\"data row2 col0\" >0.237467</td> \n",
       "        <td id=\"T_7b7d8268_b6d2_11e9_86d5_8c859075646erow2_col1\" class=\"data row2 col1\" >0.306762</td> \n",
       "        <td id=\"T_7b7d8268_b6d2_11e9_86d5_8c859075646erow2_col2\" class=\"data row2 col2\" >-0.0692951</td> \n",
       "    </tr>    <tr> \n",
       "        <th id=\"T_7b7d8268_b6d2_11e9_86d5_8c859075646elevel0_row3\" class=\"row_heading level0 row3\" >Strongly disagree</th> \n",
       "        <td id=\"T_7b7d8268_b6d2_11e9_86d5_8c859075646erow3_col0\" class=\"data row3 col0\" >0.0686016</td> \n",
       "        <td id=\"T_7b7d8268_b6d2_11e9_86d5_8c859075646erow3_col1\" class=\"data row3 col1\" >0.0555297</td> \n",
       "        <td id=\"T_7b7d8268_b6d2_11e9_86d5_8c859075646erow3_col2\" class=\"data row3 col2\" >0.0130719</td> \n",
       "    </tr>    <tr> \n",
       "        <th id=\"T_7b7d8268_b6d2_11e9_86d5_8c859075646elevel0_row4\" class=\"row_heading level0 row4\" >Strongly agree</th> \n",
       "        <td id=\"T_7b7d8268_b6d2_11e9_86d5_8c859075646erow4_col0\" class=\"data row4 col0\" >0.0580475</td> \n",
       "        <td id=\"T_7b7d8268_b6d2_11e9_86d5_8c859075646erow4_col1\" class=\"data row4 col1\" >0.122686</td> \n",
       "        <td id=\"T_7b7d8268_b6d2_11e9_86d5_8c859075646erow4_col2\" class=\"data row4 col2\" >-0.0646388</td> \n",
       "    </tr></tbody> \n",
       "</table> "
      ],
      "text/plain": [
       "<pandas.io.formats.style.Styler at 0x10f3fb9b0>"
      ]
     },
     "execution_count": 10,
     "metadata": {},
     "output_type": "execute_result"
    }
   ],
   "source": [
    "remote_perc = clean_and_plot(remote_rows, 'Remote Workers Responds', plot=False)\n",
    "non_remote_perc = clean_and_plot(non_remote_rows, 'Non Remote Workers Responds', plot=False)\n",
    "\n",
    "comp_df = pd.merge(remote_perc, non_remote_perc, left_index=True, right_index=True)\n",
    "comp_df.columns = ['remote_perc', 'non_remote_perc']\n",
    "comp_df['Diff_Remote_Vals'] = comp_df['remote_perc'] - comp_df['non_remote_perc']\n",
    "comp_df.style.bar(subset=['Diff_Remote_Vals'], align='mid', color=['#d65f5f', '#5fba7d'])"
   ]
  },
  {
   "cell_type": "code",
   "execution_count": 11,
   "metadata": {},
   "outputs": [
    {
     "data": {
      "text/plain": [
       "0.6358835"
      ]
     },
     "execution_count": 11,
     "metadata": {},
     "output_type": "execute_result"
    }
   ],
   "source": [
    "# by considering 'Somewhat agree', 'Agree' and 'Strongly agree' as Agree\n",
    "remote_workers_who_agree = 0.340369 + 0.237467 + 0.0580475\n",
    "remote_workers_who_agree"
   ]
  },
  {
   "cell_type": "code",
   "execution_count": 12,
   "metadata": {},
   "outputs": [
    {
     "data": {
      "text/plain": [
       "0.7340709999999999"
      ]
     },
     "execution_count": 12,
     "metadata": {},
     "output_type": "execute_result"
    }
   ],
   "source": [
    "non_remote_workers_who_agree = 0.304623 + 0.306762 + 0.122686\n",
    "non_remote_workers_who_agree"
   ]
  },
  {
   "cell_type": "markdown",
   "metadata": {},
   "source": [
    "When comparing above figures, it seems that **a higher percentage of people (73%), who don't work much remotely think, it's harder to collaborate with remote peers than on site peers. But a lesser percentage of people (64%) who are actually remote workers agrees that, it's hard to collaborate with peers remotely.**\n",
    "\n",
    "This might be due to the **lack of experience of non-remote workers.**\n",
    "\n",
    "Thus, if an IT company is moving towards working remotely, it's important for that company to raise awareness and introduce flexible/easy to use collaborative tools to employees to change their mindset."
   ]
  },
  {
   "cell_type": "markdown",
   "metadata": {},
   "source": [
    "### 2.Popular IDE\n",
    "\n",
    "Here I'm trying to find out the most popular IDE among the respondants of StackOverflow survey."
   ]
  },
  {
   "cell_type": "code",
   "execution_count": 13,
   "metadata": {},
   "outputs": [
    {
     "data": {
      "text/html": [
       "<div>\n",
       "<style scoped>\n",
       "    .dataframe tbody tr th:only-of-type {\n",
       "        vertical-align: middle;\n",
       "    }\n",
       "\n",
       "    .dataframe tbody tr th {\n",
       "        vertical-align: top;\n",
       "    }\n",
       "\n",
       "    .dataframe thead th {\n",
       "        text-align: right;\n",
       "    }\n",
       "</style>\n",
       "<table border=\"1\" class=\"dataframe\">\n",
       "  <thead>\n",
       "    <tr style=\"text-align: right;\">\n",
       "      <th></th>\n",
       "      <th>Respondent</th>\n",
       "      <th>Professional</th>\n",
       "      <th>ProgramHobby</th>\n",
       "      <th>Country</th>\n",
       "      <th>University</th>\n",
       "      <th>EmploymentStatus</th>\n",
       "      <th>FormalEducation</th>\n",
       "      <th>MajorUndergrad</th>\n",
       "      <th>HomeRemote</th>\n",
       "      <th>CompanySize</th>\n",
       "      <th>...</th>\n",
       "      <th>StackOverflowMakeMoney</th>\n",
       "      <th>Gender</th>\n",
       "      <th>HighestEducationParents</th>\n",
       "      <th>Race</th>\n",
       "      <th>SurveyLong</th>\n",
       "      <th>QuestionsInteresting</th>\n",
       "      <th>QuestionsConfusing</th>\n",
       "      <th>InterestedAnswers</th>\n",
       "      <th>Salary</th>\n",
       "      <th>ExpectedSalary</th>\n",
       "    </tr>\n",
       "  </thead>\n",
       "  <tbody>\n",
       "    <tr>\n",
       "      <th>0</th>\n",
       "      <td>1</td>\n",
       "      <td>Student</td>\n",
       "      <td>Yes, both</td>\n",
       "      <td>United States</td>\n",
       "      <td>No</td>\n",
       "      <td>Not employed, and not looking for work</td>\n",
       "      <td>Secondary school</td>\n",
       "      <td>NaN</td>\n",
       "      <td>NaN</td>\n",
       "      <td>NaN</td>\n",
       "      <td>...</td>\n",
       "      <td>Strongly disagree</td>\n",
       "      <td>Male</td>\n",
       "      <td>High school</td>\n",
       "      <td>White or of European descent</td>\n",
       "      <td>Strongly disagree</td>\n",
       "      <td>Strongly agree</td>\n",
       "      <td>Disagree</td>\n",
       "      <td>Strongly agree</td>\n",
       "      <td>NaN</td>\n",
       "      <td>NaN</td>\n",
       "    </tr>\n",
       "    <tr>\n",
       "      <th>1</th>\n",
       "      <td>2</td>\n",
       "      <td>Student</td>\n",
       "      <td>Yes, both</td>\n",
       "      <td>United Kingdom</td>\n",
       "      <td>Yes, full-time</td>\n",
       "      <td>Employed part-time</td>\n",
       "      <td>Some college/university study without earning ...</td>\n",
       "      <td>Computer science or software engineering</td>\n",
       "      <td>More than half, but not all, the time</td>\n",
       "      <td>20 to 99 employees</td>\n",
       "      <td>...</td>\n",
       "      <td>Strongly disagree</td>\n",
       "      <td>Male</td>\n",
       "      <td>A master's degree</td>\n",
       "      <td>White or of European descent</td>\n",
       "      <td>Somewhat agree</td>\n",
       "      <td>Somewhat agree</td>\n",
       "      <td>Disagree</td>\n",
       "      <td>Strongly agree</td>\n",
       "      <td>NaN</td>\n",
       "      <td>37500.0</td>\n",
       "    </tr>\n",
       "    <tr>\n",
       "      <th>2</th>\n",
       "      <td>3</td>\n",
       "      <td>Professional developer</td>\n",
       "      <td>Yes, both</td>\n",
       "      <td>United Kingdom</td>\n",
       "      <td>No</td>\n",
       "      <td>Employed full-time</td>\n",
       "      <td>Bachelor's degree</td>\n",
       "      <td>Computer science or software engineering</td>\n",
       "      <td>Less than half the time, but at least one day ...</td>\n",
       "      <td>10,000 or more employees</td>\n",
       "      <td>...</td>\n",
       "      <td>Disagree</td>\n",
       "      <td>Male</td>\n",
       "      <td>A professional degree</td>\n",
       "      <td>White or of European descent</td>\n",
       "      <td>Somewhat agree</td>\n",
       "      <td>Agree</td>\n",
       "      <td>Disagree</td>\n",
       "      <td>Agree</td>\n",
       "      <td>113750.0</td>\n",
       "      <td>NaN</td>\n",
       "    </tr>\n",
       "    <tr>\n",
       "      <th>3</th>\n",
       "      <td>4</td>\n",
       "      <td>Professional non-developer who sometimes write...</td>\n",
       "      <td>Yes, both</td>\n",
       "      <td>United States</td>\n",
       "      <td>No</td>\n",
       "      <td>Employed full-time</td>\n",
       "      <td>Doctoral degree</td>\n",
       "      <td>A non-computer-focused engineering discipline</td>\n",
       "      <td>Less than half the time, but at least one day ...</td>\n",
       "      <td>10,000 or more employees</td>\n",
       "      <td>...</td>\n",
       "      <td>Disagree</td>\n",
       "      <td>Male</td>\n",
       "      <td>A doctoral degree</td>\n",
       "      <td>White or of European descent</td>\n",
       "      <td>Agree</td>\n",
       "      <td>Agree</td>\n",
       "      <td>Somewhat agree</td>\n",
       "      <td>Strongly agree</td>\n",
       "      <td>NaN</td>\n",
       "      <td>NaN</td>\n",
       "    </tr>\n",
       "    <tr>\n",
       "      <th>4</th>\n",
       "      <td>5</td>\n",
       "      <td>Professional developer</td>\n",
       "      <td>Yes, I program as a hobby</td>\n",
       "      <td>Switzerland</td>\n",
       "      <td>No</td>\n",
       "      <td>Employed full-time</td>\n",
       "      <td>Master's degree</td>\n",
       "      <td>Computer science or software engineering</td>\n",
       "      <td>Never</td>\n",
       "      <td>10 to 19 employees</td>\n",
       "      <td>...</td>\n",
       "      <td>NaN</td>\n",
       "      <td>NaN</td>\n",
       "      <td>NaN</td>\n",
       "      <td>NaN</td>\n",
       "      <td>NaN</td>\n",
       "      <td>NaN</td>\n",
       "      <td>NaN</td>\n",
       "      <td>NaN</td>\n",
       "      <td>NaN</td>\n",
       "      <td>NaN</td>\n",
       "    </tr>\n",
       "  </tbody>\n",
       "</table>\n",
       "<p>5 rows × 154 columns</p>\n",
       "</div>"
      ],
      "text/plain": [
       "   Respondent                                       Professional  \\\n",
       "0           1                                            Student   \n",
       "1           2                                            Student   \n",
       "2           3                             Professional developer   \n",
       "3           4  Professional non-developer who sometimes write...   \n",
       "4           5                             Professional developer   \n",
       "\n",
       "                ProgramHobby         Country      University  \\\n",
       "0                  Yes, both   United States              No   \n",
       "1                  Yes, both  United Kingdom  Yes, full-time   \n",
       "2                  Yes, both  United Kingdom              No   \n",
       "3                  Yes, both   United States              No   \n",
       "4  Yes, I program as a hobby     Switzerland              No   \n",
       "\n",
       "                         EmploymentStatus  \\\n",
       "0  Not employed, and not looking for work   \n",
       "1                      Employed part-time   \n",
       "2                      Employed full-time   \n",
       "3                      Employed full-time   \n",
       "4                      Employed full-time   \n",
       "\n",
       "                                     FormalEducation  \\\n",
       "0                                   Secondary school   \n",
       "1  Some college/university study without earning ...   \n",
       "2                                  Bachelor's degree   \n",
       "3                                    Doctoral degree   \n",
       "4                                    Master's degree   \n",
       "\n",
       "                                  MajorUndergrad  \\\n",
       "0                                            NaN   \n",
       "1       Computer science or software engineering   \n",
       "2       Computer science or software engineering   \n",
       "3  A non-computer-focused engineering discipline   \n",
       "4       Computer science or software engineering   \n",
       "\n",
       "                                          HomeRemote  \\\n",
       "0                                                NaN   \n",
       "1              More than half, but not all, the time   \n",
       "2  Less than half the time, but at least one day ...   \n",
       "3  Less than half the time, but at least one day ...   \n",
       "4                                              Never   \n",
       "\n",
       "                CompanySize       ...       StackOverflowMakeMoney Gender  \\\n",
       "0                       NaN       ...            Strongly disagree   Male   \n",
       "1        20 to 99 employees       ...            Strongly disagree   Male   \n",
       "2  10,000 or more employees       ...                     Disagree   Male   \n",
       "3  10,000 or more employees       ...                     Disagree   Male   \n",
       "4        10 to 19 employees       ...                          NaN    NaN   \n",
       "\n",
       "  HighestEducationParents                          Race         SurveyLong  \\\n",
       "0             High school  White or of European descent  Strongly disagree   \n",
       "1       A master's degree  White or of European descent     Somewhat agree   \n",
       "2   A professional degree  White or of European descent     Somewhat agree   \n",
       "3       A doctoral degree  White or of European descent              Agree   \n",
       "4                     NaN                           NaN                NaN   \n",
       "\n",
       "  QuestionsInteresting QuestionsConfusing InterestedAnswers    Salary  \\\n",
       "0       Strongly agree           Disagree    Strongly agree       NaN   \n",
       "1       Somewhat agree           Disagree    Strongly agree       NaN   \n",
       "2                Agree           Disagree             Agree  113750.0   \n",
       "3                Agree     Somewhat agree    Strongly agree       NaN   \n",
       "4                  NaN                NaN               NaN       NaN   \n",
       "\n",
       "   ExpectedSalary  \n",
       "0             NaN  \n",
       "1         37500.0  \n",
       "2             NaN  \n",
       "3             NaN  \n",
       "4             NaN  \n",
       "\n",
       "[5 rows x 154 columns]"
      ]
     },
     "execution_count": 13,
     "metadata": {},
     "output_type": "execute_result"
    }
   ],
   "source": [
    "import pandas as pd\n",
    "import numpy as np\n",
    "import matplotlib.pyplot as plt\n",
    "%matplotlib inline\n",
    "\n",
    "df = pd.read_csv('./survey_results_public.csv')\n",
    "df.head()"
   ]
  },
  {
   "cell_type": "code",
   "execution_count": 15,
   "metadata": {},
   "outputs": [
    {
     "data": {
      "text/plain": [
       "19102"
      ]
     },
     "execution_count": 15,
     "metadata": {},
     "output_type": "execute_result"
    }
   ],
   "source": [
    "df.shape[0] #number of rows in the dataset"
   ]
  },
  {
   "cell_type": "markdown",
   "metadata": {},
   "source": [
    "First, lets have a look at the values in IDE column"
   ]
  },
  {
   "cell_type": "code",
   "execution_count": 16,
   "metadata": {},
   "outputs": [
    {
     "data": {
      "text/plain": [
       "Notepad++; Visual Studio                                                                                       610\n",
       "Visual Studio                                                                                                  578\n",
       "Vim                                                                                                            501\n",
       "Notepad++; Visual Studio; Visual Studio Code                                                                   391\n",
       "Visual Studio; Visual Studio Code                                                                              380\n",
       "Sublime Text                                                                                                   344\n",
       "Atom                                                                                                           180\n",
       "Emacs                                                                                                          173\n",
       "Eclipse                                                                                                        165\n",
       "Sublime Text; Vim                                                                                              157\n",
       "Notepad++                                                                                                      149\n",
       "IntelliJ                                                                                                       147\n",
       "Notepad++; Eclipse                                                                                             139\n",
       "Vim; IntelliJ                                                                                                  124\n",
       "Sublime Text; Visual Studio                                                                                    118\n",
       "Xcode                                                                                                          116\n",
       "Atom; Vim                                                                                                      110\n",
       "Notepad++; Eclipse; Visual Studio                                                                              101\n",
       "Vim; Eclipse                                                                                                    98\n",
       "Sublime Text; Visual Studio; Visual Studio Code                                                                 96\n",
       "Visual Studio Code                                                                                              95\n",
       "PHPStorm                                                                                                        85\n",
       "Sublime Text; IntelliJ                                                                                          74\n",
       "Notepad++; Sublime Text; Visual Studio                                                                          70\n",
       "Android Studio                                                                                                  69\n",
       "Notepad++; IntelliJ                                                                                             68\n",
       "Atom; Sublime Text                                                                                              65\n",
       "Eclipse; Visual Studio                                                                                          63\n",
       "Atom; Vim; IntelliJ                                                                                             62\n",
       "Sublime Text; Vim; IntelliJ                                                                                     61\n",
       "                                                                                                              ... \n",
       "Atom; Notepad++; Eclipse; IntelliJ; PyCharm                                                                      1\n",
       "Atom; Notepad++; Sublime Text; Android Studio; IntelliJ; RubyMine; Visual Studio; Visual Studio Code; Xcode      1\n",
       "Atom; Vim; Visual Studio; Xcode                                                                                  1\n",
       "Atom; TextMate; Vim; Android Studio; Eclipse; IPython / Jupyter; PyCharm                                         1\n",
       "IntelliJ; RubyMine; Visual Studio                                                                                1\n",
       "TextMate; Visual Studio Code                                                                                     1\n",
       "Vim; Android Studio; IntelliJ; NetBeans                                                                          1\n",
       "Notepad++; Sublime Text; PyCharm; RStudio; Visual Studio Code                                                    1\n",
       "Atom; TextMate; Vim; IntelliJ; Xcode                                                                             1\n",
       "Atom; Notepad++; Sublime Text; IntelliJ; PyCharm; Visual Studio Code                                             1\n",
       "Android Studio; Eclipse; PHPStorm; Xcode; Zend                                                                   1\n",
       "Emacs; Notepad++; Vim; Eclipse                                                                                   1\n",
       "Atom; Emacs; Sublime Text; Vim; Android Studio; Eclipse                                                          1\n",
       "Atom; Vim; PyCharm; Visual Studio                                                                                1\n",
       "Atom; Notepad++; Sublime Text; Vim; IntelliJ; RubyMine                                                           1\n",
       "Vim; NetBeans; Xcode                                                                                             1\n",
       "Vim; Android Studio; IntelliJ; PHPStorm; Visual Studio                                                           1\n",
       "Sublime Text; Vim; Android Studio; Eclipse; IPython / Jupyter                                                    1\n",
       "Notepad++; Sublime Text; Vim; Android Studio; RStudio                                                            1\n",
       "Emacs; Notepad++; IntelliJ; PyCharm                                                                              1\n",
       "Notepad++; Android Studio; Komodo                                                                                1\n",
       "Atom; Notepad++; NetBeans; PHPStorm; Visual Studio                                                               1\n",
       "Notepad++; Sublime Text; Vim; Android Studio; Eclipse; IntelliJ; NetBeans                                        1\n",
       "Notepad++; Sublime Text; IPython / Jupyter; RStudio; Visual Studio                                               1\n",
       "Notepad++; Vim; Eclipse; PyCharm; Visual Studio                                                                  1\n",
       "Sublime Text; Vim; Eclipse; IntelliJ; PHPStorm; Visual Studio Code                                               1\n",
       "Atom; Vim; Android Studio; PyCharm; Xcode                                                                        1\n",
       "Notepad++; IntelliJ; IPython / Jupyter; PyCharm; RStudio                                                         1\n",
       "Android Studio; Eclipse; NetBeans; PHPStorm                                                                      1\n",
       "Sublime Text; Vim; Android Studio; Eclipse; PyCharm; Xcode                                                       1\n",
       "Name: IDE, Length: 2490, dtype: int64"
      ]
     },
     "execution_count": 16,
     "metadata": {},
     "output_type": "execute_result"
    }
   ],
   "source": [
    "df.IDE.value_counts()"
   ]
  },
  {
   "cell_type": "code",
   "execution_count": 17,
   "metadata": {},
   "outputs": [
    {
     "data": {
      "text/plain": [
       "0                                           Atom; Xcode\n",
       "1     Atom; Notepad++; Vim; PyCharm; RubyMine; Visua...\n",
       "2                           Sublime Text; Vim; IntelliJ\n",
       "3     Notepad++; Sublime Text; TextMate; Vim; IPytho...\n",
       "4                                                   NaN\n",
       "5                                            Emacs; Vim\n",
       "6     Sublime Text; IPython / Jupyter; Visual Studio...\n",
       "7                                                   Vim\n",
       "8                Vim; Visual Studio; Visual Studio Code\n",
       "9              Coda; Sublime Text; Visual Studio; Xcode\n",
       "10                                        Visual Studio\n",
       "11                                                  NaN\n",
       "12                                                  NaN\n",
       "13                                                  Vim\n",
       "14                                         Emacs; Xcode\n",
       "15                             Notepad++; Visual Studio\n",
       "16                                           Emacs; Vim\n",
       "17                                           Emacs; Vim\n",
       "18                                                  NaN\n",
       "19                                                Emacs\n",
       "Name: IDE, dtype: object"
      ]
     },
     "execution_count": 17,
     "metadata": {},
     "output_type": "execute_result"
    }
   ],
   "source": [
    "df.IDE[:20]   #first 20 values in IDE column"
   ]
  },
  {
   "cell_type": "markdown",
   "metadata": {},
   "source": [
    "It seems that some people haven't responded this survey question. (some rows have NaN)\n",
    "Thus, some cleaning is required.\n",
    "\n",
    "Further, this column has different combinations of answers. Thus, it's important for us to find out the different values, which were provided in the survey.\n",
    "\n",
    "In order to do that, lets first remove the rows which are missing IDE."
   ]
  },
  {
   "cell_type": "code",
   "execution_count": 18,
   "metadata": {},
   "outputs": [
    {
     "data": {
      "text/plain": [
       "13197"
      ]
     },
     "execution_count": 18,
     "metadata": {},
     "output_type": "execute_result"
    }
   ],
   "source": [
    "df_drop = df.dropna(subset=['IDE'], axis=0)\n",
    "df_drop.shape[0]   #number of rows after dropping rows with missing IDE values"
   ]
  },
  {
   "cell_type": "markdown",
   "metadata": {},
   "source": [
    "Around 5905 people haven't responded to this particular question.\n",
    "\n",
    "Now it's time to find out the set of values which were available on the questionnare.\n",
    "\n",
    "In order to do that, we have to do some processing."
   ]
  },
  {
   "cell_type": "code",
   "execution_count": 19,
   "metadata": {},
   "outputs": [
    {
     "data": {
      "text/plain": [
       "array(['Atom; Xcode',\n",
       "       'Atom; Notepad++; Vim; PyCharm; RubyMine; Visual Studio; Visual Studio Code',\n",
       "       'Sublime Text; Vim; IntelliJ', ...,\n",
       "       'Atom; Emacs; Sublime Text; IntelliJ; PHPStorm; PyCharm',\n",
       "       'Emacs; Notepad++; Android Studio; IPython / Jupyter; RStudio; Visual Studio',\n",
       "       'Atom; Emacs; Eclipse; IntelliJ'], dtype=object)"
      ]
     },
     "execution_count": 19,
     "metadata": {},
     "output_type": "execute_result"
    }
   ],
   "source": [
    "arr = df_drop.IDE.unique()   #get the unique values in IDE column\n",
    "arr"
   ]
  },
  {
   "cell_type": "code",
   "execution_count": 20,
   "metadata": {},
   "outputs": [
    {
     "name": "stdout",
     "output_type": "stream",
     "text": [
      "['Atom', 'Xcode', 'Notepad++', 'Vim', 'PyCharm', 'RubyMine', 'Visual Studio', 'Visual Studio Code', 'Sublime Text', 'IntelliJ', 'TextMate', 'IPython / Jupyter', 'NetBeans', 'Emacs', 'Coda', 'PHPStorm', 'Android Studio', 'RStudio', 'Komodo', 'Eclipse', 'Light Table', 'Zend']\n"
     ]
    }
   ],
   "source": [
    "ide_types = []\n",
    "split_arr = []\n",
    "\n",
    "for a in arr:\n",
    "    split_arr = a.split('; ')\n",
    "    \n",
    "    for split_s in split_arr:\n",
    "        if split_s not in ide_types:\n",
    "            ide_types.append(split_s)\n",
    "    \n",
    "print(ide_types)"
   ]
  },
  {
   "cell_type": "markdown",
   "metadata": {},
   "source": [
    "Above is the list of IDEs which were available in the survey.\n",
    "\n",
    "Below, we're creating a dictionary to hold the usage of each IDE, against the IDE name. Usage of all IDEs are initialized to zero (0)."
   ]
  },
  {
   "cell_type": "code",
   "execution_count": 21,
   "metadata": {},
   "outputs": [
    {
     "name": "stdout",
     "output_type": "stream",
     "text": [
      "{'Atom': 0, 'Xcode': 0, 'Notepad++': 0, 'Vim': 0, 'PyCharm': 0, 'RubyMine': 0, 'Visual Studio': 0, 'Visual Studio Code': 0, 'Sublime Text': 0, 'IntelliJ': 0, 'TextMate': 0, 'IPython / Jupyter': 0, 'NetBeans': 0, 'Emacs': 0, 'Coda': 0, 'PHPStorm': 0, 'Android Studio': 0, 'RStudio': 0, 'Komodo': 0, 'Eclipse': 0, 'Light Table': 0, 'Zend': 0}\n"
     ]
    }
   ],
   "source": [
    "ide_count_map = {}\n",
    "  \n",
    "for t in ide_types:\n",
    "    ide_count_map.update( {t : 0} )\n",
    "    \n",
    "print(ide_count_map)"
   ]
  },
  {
   "cell_type": "code",
   "execution_count": 22,
   "metadata": {},
   "outputs": [
    {
     "data": {
      "text/plain": [
       "{'Android Studio': 1929,\n",
       " 'Atom': 2373,\n",
       " 'Coda': 82,\n",
       " 'Eclipse': 2620,\n",
       " 'Emacs': 789,\n",
       " 'IPython / Jupyter': 733,\n",
       " 'IntelliJ': 2786,\n",
       " 'Komodo': 81,\n",
       " 'Light Table': 25,\n",
       " 'NetBeans': 906,\n",
       " 'Notepad++': 4405,\n",
       " 'PHPStorm': 995,\n",
       " 'PyCharm': 1205,\n",
       " 'RStudio': 390,\n",
       " 'RubyMine': 233,\n",
       " 'Sublime Text': 3505,\n",
       " 'TextMate': 188,\n",
       " 'Vim': 3739,\n",
       " 'Visual Studio': 5061,\n",
       " 'Visual Studio Code': 2691,\n",
       " 'Xcode': 1335,\n",
       " 'Zend': 44}"
      ]
     },
     "execution_count": 22,
     "metadata": {},
     "output_type": "execute_result"
    }
   ],
   "source": [
    "def get_ide_counts(df, ide_count_map):\n",
    "    '''\n",
    "    INPUT\n",
    "    df - pandas dataframe\n",
    "    ide_count_map - a dictionary with ide names and counts initialized to 0\n",
    "    \n",
    "    OUTPUT\n",
    "    ide_map - a dictionary containing counts for each ide (key: ide, value: count)\n",
    "    \n",
    "    Steps:\n",
    "    1.Slice out IDE column from the dataframe\n",
    "    2.For each value in the column, split each IDE name\n",
    "    3.For each IDE name in the splitted list, update the usage/count in dictionary \n",
    "    '''\n",
    "    \n",
    "    df_ide = df['IDE']   #slice out IDE column\n",
    "    \n",
    "    for val in df_ide:\n",
    "        split_arr = val.split('; ')\n",
    "        \n",
    "        for ide in split_arr:  \n",
    "            ide_count_map[ide] = ide_count_map[ide] + 1\n",
    "            \n",
    "    return ide_count_map\n",
    "\n",
    "get_ide_counts(df_drop, ide_count_map)"
   ]
  },
  {
   "cell_type": "code",
   "execution_count": 23,
   "metadata": {},
   "outputs": [
    {
     "data": {
      "image/png": "[encoded data removed]",
      "text/plain": [
       "<matplotlib.figure.Figure at 0x10f0676a0>"
      ]
     },
     "metadata": {},
     "output_type": "display_data"
    }
   ],
   "source": [
    "ide_names = list(ide_count_map.keys())\n",
    "values = list(ide_count_map.values())\n",
    "\n",
    "#tick_label does the some work as plt.xticks()\n",
    "plt.bar(range(len(ide_count_map)),values,tick_label=ide_names)\n",
    "plt.title('Popular IDE')\n",
    "\n",
    "N = 2\n",
    "params = plt.gcf()\n",
    "plSize = params.get_size_inches()\n",
    "params.set_size_inches( (plSize[0]*N, plSize[1]*N) )\n",
    "\n",
    "plt.xticks(rotation='vertical')\n",
    "plt.show()"
   ]
  },
  {
   "cell_type": "code",
   "execution_count": 24,
   "metadata": {},
   "outputs": [
    {
     "data": {
      "text/plain": [
       "[('Visual Studio', 5061),\n",
       " ('Notepad++', 4405),\n",
       " ('Vim', 3739),\n",
       " ('Sublime Text', 3505),\n",
       " ('IntelliJ', 2786),\n",
       " ('Visual Studio Code', 2691),\n",
       " ('Eclipse', 2620),\n",
       " ('Atom', 2373),\n",
       " ('Android Studio', 1929),\n",
       " ('Xcode', 1335),\n",
       " ('PyCharm', 1205),\n",
       " ('PHPStorm', 995),\n",
       " ('NetBeans', 906),\n",
       " ('Emacs', 789),\n",
       " ('IPython / Jupyter', 733),\n",
       " ('RStudio', 390),\n",
       " ('RubyMine', 233),\n",
       " ('TextMate', 188),\n",
       " ('Coda', 82),\n",
       " ('Komodo', 81),\n",
       " ('Zend', 44),\n",
       " ('Light Table', 25)]"
      ]
     },
     "execution_count": 24,
     "metadata": {},
     "output_type": "execute_result"
    }
   ],
   "source": [
    "sorted(ide_count_map.items(), key=lambda x: x[1], reverse=True)"
   ]
  },
  {
   "cell_type": "markdown",
   "metadata": {},
   "source": [
    "According to the above analysis, 5 mostly used IDEs are; Visual Studio, Notepad++, Vim, Sublime Text and IntelliJ"
   ]
  },
  {
   "cell_type": "markdown",
   "metadata": {},
   "source": [
    "### 3. Career Satisfaction\n",
    "\n",
    "Here I'm trying to find out top indicators (different variables which matters) for Career Satisfaction."
   ]
  },
  {
   "cell_type": "code",
   "execution_count": 3,
   "metadata": {},
   "outputs": [
    {
     "data": {
      "text/html": [
       "<div>\n",
       "<style scoped>\n",
       "    .dataframe tbody tr th:only-of-type {\n",
       "        vertical-align: middle;\n",
       "    }\n",
       "\n",
       "    .dataframe tbody tr th {\n",
       "        vertical-align: top;\n",
       "    }\n",
       "\n",
       "    .dataframe thead th {\n",
       "        text-align: right;\n",
       "    }\n",
       "</style>\n",
       "<table border=\"1\" class=\"dataframe\">\n",
       "  <thead>\n",
       "    <tr style=\"text-align: right;\">\n",
       "      <th></th>\n",
       "      <th>Respondent</th>\n",
       "      <th>CareerSatisfaction</th>\n",
       "      <th>JobSatisfaction</th>\n",
       "      <th>HoursPerWeek</th>\n",
       "      <th>StackOverflowSatisfaction</th>\n",
       "      <th>Salary</th>\n",
       "      <th>ExpectedSalary</th>\n",
       "    </tr>\n",
       "  </thead>\n",
       "  <tbody>\n",
       "    <tr>\n",
       "      <th>count</th>\n",
       "      <td>19102.000000</td>\n",
       "      <td>16102.000000</td>\n",
       "      <td>15253.000000</td>\n",
       "      <td>7721.000000</td>\n",
       "      <td>13452.000000</td>\n",
       "      <td>5009.000000</td>\n",
       "      <td>818.000000</td>\n",
       "    </tr>\n",
       "    <tr>\n",
       "      <th>mean</th>\n",
       "      <td>9551.500000</td>\n",
       "      <td>7.343932</td>\n",
       "      <td>7.000721</td>\n",
       "      <td>3.685922</td>\n",
       "      <td>8.357865</td>\n",
       "      <td>58341.398571</td>\n",
       "      <td>32231.521687</td>\n",
       "    </tr>\n",
       "    <tr>\n",
       "      <th>std</th>\n",
       "      <td>5514.416757</td>\n",
       "      <td>1.919330</td>\n",
       "      <td>2.128648</td>\n",
       "      <td>7.330691</td>\n",
       "      <td>1.405546</td>\n",
       "      <td>40753.384986</td>\n",
       "      <td>28543.877274</td>\n",
       "    </tr>\n",
       "    <tr>\n",
       "      <th>min</th>\n",
       "      <td>1.000000</td>\n",
       "      <td>0.000000</td>\n",
       "      <td>0.000000</td>\n",
       "      <td>0.000000</td>\n",
       "      <td>0.000000</td>\n",
       "      <td>0.000000</td>\n",
       "      <td>0.000000</td>\n",
       "    </tr>\n",
       "    <tr>\n",
       "      <th>25%</th>\n",
       "      <td>4776.250000</td>\n",
       "      <td>6.000000</td>\n",
       "      <td>6.000000</td>\n",
       "      <td>0.000000</td>\n",
       "      <td>8.000000</td>\n",
       "      <td>27956.989247</td>\n",
       "      <td>4716.459735</td>\n",
       "    </tr>\n",
       "    <tr>\n",
       "      <th>50%</th>\n",
       "      <td>9551.500000</td>\n",
       "      <td>8.000000</td>\n",
       "      <td>7.000000</td>\n",
       "      <td>1.000000</td>\n",
       "      <td>8.000000</td>\n",
       "      <td>51612.903226</td>\n",
       "      <td>29784.946237</td>\n",
       "    </tr>\n",
       "    <tr>\n",
       "      <th>75%</th>\n",
       "      <td>14326.750000</td>\n",
       "      <td>9.000000</td>\n",
       "      <td>8.000000</td>\n",
       "      <td>3.000000</td>\n",
       "      <td>9.000000</td>\n",
       "      <td>83333.333333</td>\n",
       "      <td>50000.000000</td>\n",
       "    </tr>\n",
       "    <tr>\n",
       "      <th>max</th>\n",
       "      <td>19102.000000</td>\n",
       "      <td>10.000000</td>\n",
       "      <td>10.000000</td>\n",
       "      <td>40.000000</td>\n",
       "      <td>10.000000</td>\n",
       "      <td>195000.000000</td>\n",
       "      <td>120000.000000</td>\n",
       "    </tr>\n",
       "  </tbody>\n",
       "</table>\n",
       "</div>"
      ],
      "text/plain": [
       "         Respondent  CareerSatisfaction  JobSatisfaction  HoursPerWeek  \\\n",
       "count  19102.000000        16102.000000     15253.000000   7721.000000   \n",
       "mean    9551.500000            7.343932         7.000721      3.685922   \n",
       "std     5514.416757            1.919330         2.128648      7.330691   \n",
       "min        1.000000            0.000000         0.000000      0.000000   \n",
       "25%     4776.250000            6.000000         6.000000      0.000000   \n",
       "50%     9551.500000            8.000000         7.000000      1.000000   \n",
       "75%    14326.750000            9.000000         8.000000      3.000000   \n",
       "max    19102.000000           10.000000        10.000000     40.000000   \n",
       "\n",
       "       StackOverflowSatisfaction         Salary  ExpectedSalary  \n",
       "count               13452.000000    5009.000000      818.000000  \n",
       "mean                    8.357865   58341.398571    32231.521687  \n",
       "std                     1.405546   40753.384986    28543.877274  \n",
       "min                     0.000000       0.000000        0.000000  \n",
       "25%                     8.000000   27956.989247     4716.459735  \n",
       "50%                     8.000000   51612.903226    29784.946237  \n",
       "75%                     9.000000   83333.333333    50000.000000  \n",
       "max                    10.000000  195000.000000   120000.000000  "
      ]
     },
     "execution_count": 3,
     "metadata": {},
     "output_type": "execute_result"
    }
   ],
   "source": [
    "#First lets take a look at the quantitative fields\n",
    "\n",
    "df.describe()"
   ]
  },
  {
   "cell_type": "code",
   "execution_count": 4,
   "metadata": {},
   "outputs": [],
   "source": [
    "#here I'm making a deep copy of the dataframe\n",
    "career_df = df.copy()"
   ]
  },
  {
   "cell_type": "markdown",
   "metadata": {},
   "source": [
    "According to CRISP-DM, we need to perform some data wrangling.\n",
    "\n",
    "Although this dataset has 19102 records, question related to CareerSatisfaction has been answered only by 16102 respondants. Which means, around 3000 have not answered it. That is around 15.71% and it is a significant portion of the respondants. Thus, I'm not planning to impute values for Career Satisfaction. Rather, I will **drop the rows with missing CareerSatisfaction.**\n",
    "\n",
    "Since Respondant column is just like an index, I will drop that too..\n",
    "\n",
    "Further, **ExpectedSalary column will also be dropped**, because only 818 people (4.28%) have responded to it. Thus, Expected Salary column could be considered insignificant.\n",
    "\n",
    "But, for other **Quantitative variables**, I'm imputing with **mean of each column**, because it's the most common way and an unbiased way to fill up missing values in numerical fields.\n",
    "\n",
    "**One Hot Encoding** is used for **Categorical variables.**\n",
    "\n",
    "Why I chose One Hot Encoding is because, it can be easily interpreted and due to the flexibility in influence of variable on the response.\n"
   ]
  },
  {
   "cell_type": "code",
   "execution_count": 5,
   "metadata": {},
   "outputs": [],
   "source": [
    "def clean_data(dataframe):\n",
    "    '''\n",
    "    INPUT\n",
    "    dataframe - pandas dataframe \n",
    "    \n",
    "    OUTPUT\n",
    "    X - A matrix holding all of the variables you want to consider when predicting the response\n",
    "    y - the corresponding response vector\n",
    "    \n",
    "    Perform to obtain the correct X and y objects\n",
    "    This function cleans df using the following steps to produce X and y:\n",
    "    1. Drop all the rows with no Career Satisfaction\n",
    "    2. Create X as all the columns that are not the CareerSatisfaction column\n",
    "    3. Create y as the CareerSatisfaction column\n",
    "    4. Drop the CareerSatisfaction, Respondent, and the ExpectedSalary columns from X\n",
    "    5. For each numeric variable in X, fill the column with the mean value of the column.\n",
    "    6. Create dummy columns for all the categorical variables in X, drop the original columns\n",
    "    '''\n",
    "    \n",
    "    dataframe = dataframe.dropna(subset=['CareerSatisfaction'], axis=0)\n",
    "    X = dataframe.drop(labels='CareerSatisfaction', axis=1)\n",
    "    y = dataframe['CareerSatisfaction']\n",
    "    \n",
    "    X = X.drop(labels=['Respondent','ExpectedSalary'], axis=1)\n",
    "    \n",
    "    numeric_cols = X.select_dtypes(include=['int','float']).columns\n",
    "    \n",
    "    for col in numeric_cols:\n",
    "        X[col].fillna(X[col].mean(), inplace=True)\n",
    "    \n",
    "    cat_cols = X.select_dtypes(include=['object']).columns\n",
    "    \n",
    "    for col in cat_cols:\n",
    "        X = pd.concat([X.drop(col,axis=1),pd.get_dummies(X[col],prefix=col,prefix_sep='_',dummy_na=False,drop_first=True)],axis=1)\n",
    "    \n",
    "    return X, y\n",
    "    \n",
    "    \n",
    "#Use the function to create X and y\n",
    "X, y = clean_data(career_df)   "
   ]
  },
  {
   "cell_type": "code",
   "execution_count": 6,
   "metadata": {},
   "outputs": [
    {
     "data": {
      "text/plain": [
       "(16102, 21306)"
      ]
     },
     "execution_count": 6,
     "metadata": {},
     "output_type": "execute_result"
    }
   ],
   "source": [
    "X.shape"
   ]
  },
  {
   "cell_type": "markdown",
   "metadata": {},
   "source": [
    "Using all of the 21306 variables will drastically overfit the training data. Hence, we will try to find the optimal model by trying out with different cutoff values."
   ]
  },
  {
   "cell_type": "code",
   "execution_count": 7,
   "metadata": {},
   "outputs": [],
   "source": [
    "#cutoffs here pertains to the number of missing values allowed in the used columns.\n",
    "#Therefore, lower values for the cutoff provides more predictors in the model and vice versa\n",
    "cutoffs = [5000, 3500, 2500, 1000, 100, 50, 30, 25]"
   ]
  },
  {
   "cell_type": "code",
   "execution_count": 8,
   "metadata": {},
   "outputs": [],
   "source": [
    "def find_optimal_lm_mod(X, y, cutoffs, test_size = .30, random_state=42, plot=True):\n",
    "    '''\n",
    "    INPUT\n",
    "    X - pandas dataframe, X matrix\n",
    "    y - pandas dataframe, response variable\n",
    "    cutoffs - list of ints, cutoff for number of non-zero values in dummy categorical vars\n",
    "    test_size - float between 0 and 1, default 0.3, determines the proportion of data as test data\n",
    "    random_state - int, default 42, controls random state for train_test_split\n",
    "    plot - boolean, default True, to plot result\n",
    "\n",
    "    OUTPUT\n",
    "    r2_scores_test - list of floats of r2 scores on the test data\n",
    "    r2_scores_train - list of floats of r2 scores on the train data\n",
    "    lm_model - model object from sklearn\n",
    "    X_train, X_test, y_train, y_test - output from sklearn train test split used for optimal model\n",
    "    '''\n",
    "    r2_scores_test, r2_scores_train, num_feats, results = [], [], [], dict()\n",
    "    for cutoff in cutoffs:\n",
    "\n",
    "        #reduce X matrix\n",
    "        reduce_X = X.iloc[:, np.where((X.sum() > cutoff) == True)[0]]\n",
    "        num_feats.append(reduce_X.shape[1])\n",
    "\n",
    "        #split the data into train and test\n",
    "        X_train, X_test, y_train, y_test = train_test_split(reduce_X, y, test_size = test_size, random_state=random_state)\n",
    "\n",
    "        #fit the model and obtain pred response\n",
    "        lm_model = LinearRegression(normalize=True)\n",
    "        lm_model.fit(X_train, y_train)\n",
    "        y_test_preds = lm_model.predict(X_test)\n",
    "        y_train_preds = lm_model.predict(X_train)\n",
    "\n",
    "        #append the r2 value from the test set\n",
    "        r2_scores_test.append(r2_score(y_test, y_test_preds))\n",
    "        r2_scores_train.append(r2_score(y_train, y_train_preds))\n",
    "        results[str(cutoff)] = r2_score(y_test, y_test_preds)\n",
    "\n",
    "    if plot:\n",
    "        plt.plot(num_feats, r2_scores_test, label=\"Test\", alpha=.5)\n",
    "        plt.plot(num_feats, r2_scores_train, label=\"Train\", alpha=.5)\n",
    "        plt.xlabel('Number of Features')\n",
    "        plt.ylabel('Rsquared')\n",
    "        plt.title('Rsquared by Number of Features')\n",
    "        plt.legend(loc=1)\n",
    "        plt.show()\n",
    "\n",
    "    best_cutoff = max(results, key=results.get)\n",
    "\n",
    "    #reduce X matrix\n",
    "    reduce_X = X.iloc[:, np.where((X.sum() > int(best_cutoff)) == True)[0]]\n",
    "    num_feats.append(reduce_X.shape[1])\n",
    "\n",
    "    #split the data into train and test\n",
    "    X_train, X_test, y_train, y_test = train_test_split(reduce_X, y, test_size = test_size, random_state=random_state)\n",
    "\n",
    "    #fit the model\n",
    "    lm_model = LinearRegression(normalize=True)\n",
    "    lm_model.fit(X_train, y_train)\n",
    "\n",
    "    return r2_scores_test, r2_scores_train, lm_model, X_train, X_test, y_train, y_test"
   ]
  },
  {
   "cell_type": "code",
   "execution_count": 11,
   "metadata": {},
   "outputs": [
    {
     "data": {
      "image/png": "[encoded data removed]",
      "text/plain": [
       "<matplotlib.figure.Figure at 0x1134ac630>"
      ]
     },
     "metadata": {},
     "output_type": "display_data"
    }
   ],
   "source": [
    "r2_scores_test, r2_scores_train, lm_model, X_train, X_test, y_train, y_test = find_optimal_lm_mod(X, y, cutoffs)"
   ]
  },
  {
   "cell_type": "code",
   "execution_count": 12,
   "metadata": {},
   "outputs": [
    {
     "data": {
      "text/plain": [
       "[0.3945223190161258,\n",
       " 0.4007186553783617,\n",
       " 0.40521115476278946,\n",
       " 0.40609782221758906,\n",
       " 0.4050818831371569,\n",
       " 0.39027191131800365,\n",
       " 0.3649703510550033,\n",
       " 0.35713718669100614]"
      ]
     },
     "execution_count": 12,
     "metadata": {},
     "output_type": "execute_result"
    }
   ],
   "source": [
    "r2_scores_test"
   ]
  },
  {
   "cell_type": "code",
   "execution_count": 13,
   "metadata": {},
   "outputs": [
    {
     "data": {
      "text/plain": [
       "[0.39988999211421195,\n",
       " 0.4093679327429901,\n",
       " 0.4166318378276169,\n",
       " 0.43835016386651793,\n",
       " 0.4935901393015154,\n",
       " 0.5090723023881971,\n",
       " 0.527264497602565,\n",
       " 0.533590455858793]"
      ]
     },
     "execution_count": 13,
     "metadata": {},
     "output_type": "execute_result"
    }
   ],
   "source": [
    "r2_scores_train"
   ]
  },
  {
   "cell_type": "markdown",
   "metadata": {},
   "source": [
    "According rsquared values of test data, the maximum is 0.40609782221758906. It is recorded when cutoff is 1000 and number of features lies somewhere between 100 to 200.\n",
    "\n",
    "The default penalty on coefficients using linear regression in sklearn is a ridge (also known as an L2) penalty. Because of this penalty, and that all the variables were normalized, we can look at the size of the coefficients in the model as an indication of the impact of each variable on the CareerSatisfaction. \n",
    "\n",
    "**The larger the coefficient, the larger the expected impact on CareerSatisfaction.**"
   ]
  },
  {
   "cell_type": "code",
   "execution_count": 14,
   "metadata": {},
   "outputs": [
    {
     "data": {
      "text/html": [
       "<div>\n",
       "<style scoped>\n",
       "    .dataframe tbody tr th:only-of-type {\n",
       "        vertical-align: middle;\n",
       "    }\n",
       "\n",
       "    .dataframe tbody tr th {\n",
       "        vertical-align: top;\n",
       "    }\n",
       "\n",
       "    .dataframe thead th {\n",
       "        text-align: right;\n",
       "    }\n",
       "</style>\n",
       "<table border=\"1\" class=\"dataframe\">\n",
       "  <thead>\n",
       "    <tr style=\"text-align: right;\">\n",
       "      <th></th>\n",
       "      <th>est_int</th>\n",
       "      <th>coefs</th>\n",
       "      <th>abs_coefs</th>\n",
       "    </tr>\n",
       "  </thead>\n",
       "  <tbody>\n",
       "    <tr>\n",
       "      <th>4</th>\n",
       "      <td>Professional_Professional developer</td>\n",
       "      <td>0.628331</td>\n",
       "      <td>0.628331</td>\n",
       "    </tr>\n",
       "    <tr>\n",
       "      <th>0</th>\n",
       "      <td>JobSatisfaction</td>\n",
       "      <td>0.519891</td>\n",
       "      <td>0.519891</td>\n",
       "    </tr>\n",
       "    <tr>\n",
       "      <th>189</th>\n",
       "      <td>DifficultCommunication_Strongly disagree</td>\n",
       "      <td>0.345434</td>\n",
       "      <td>0.345434</td>\n",
       "    </tr>\n",
       "    <tr>\n",
       "      <th>5</th>\n",
       "      <td>Professional_Professional non-developer who so...</td>\n",
       "      <td>0.304543</td>\n",
       "      <td>0.304543</td>\n",
       "    </tr>\n",
       "    <tr>\n",
       "      <th>15</th>\n",
       "      <td>EmploymentStatus_Independent contractor, freel...</td>\n",
       "      <td>0.286303</td>\n",
       "      <td>0.286303</td>\n",
       "    </tr>\n",
       "    <tr>\n",
       "      <th>32</th>\n",
       "      <td>CompanyType_Publicly-traded corporation</td>\n",
       "      <td>0.252075</td>\n",
       "      <td>0.252075</td>\n",
       "    </tr>\n",
       "    <tr>\n",
       "      <th>10</th>\n",
       "      <td>Country_India</td>\n",
       "      <td>-0.246024</td>\n",
       "      <td>0.246024</td>\n",
       "    </tr>\n",
       "    <tr>\n",
       "      <th>77</th>\n",
       "      <td>KinshipDevelopers_Disagree</td>\n",
       "      <td>-0.240376</td>\n",
       "      <td>0.240376</td>\n",
       "    </tr>\n",
       "    <tr>\n",
       "      <th>119</th>\n",
       "      <td>AssessJobProduct_Not very important</td>\n",
       "      <td>-0.226778</td>\n",
       "      <td>0.226778</td>\n",
       "    </tr>\n",
       "    <tr>\n",
       "      <th>8</th>\n",
       "      <td>ProgramHobby_Yes, both</td>\n",
       "      <td>0.218092</td>\n",
       "      <td>0.218092</td>\n",
       "    </tr>\n",
       "    <tr>\n",
       "      <th>187</th>\n",
       "      <td>DifficultCommunication_Disagree</td>\n",
       "      <td>0.208774</td>\n",
       "      <td>0.208774</td>\n",
       "    </tr>\n",
       "    <tr>\n",
       "      <th>259</th>\n",
       "      <td>StackOverflowJobListing_Once or twice</td>\n",
       "      <td>-0.206420</td>\n",
       "      <td>0.206420</td>\n",
       "    </tr>\n",
       "    <tr>\n",
       "      <th>43</th>\n",
       "      <td>YearsCodedJob_Less than a year</td>\n",
       "      <td>-0.193510</td>\n",
       "      <td>0.193510</td>\n",
       "    </tr>\n",
       "    <tr>\n",
       "      <th>208</th>\n",
       "      <td>InfluenceInternet_Not very satisfied</td>\n",
       "      <td>-0.191093</td>\n",
       "      <td>0.191093</td>\n",
       "    </tr>\n",
       "    <tr>\n",
       "      <th>204</th>\n",
       "      <td>EquipmentSatisfiedStorage_Very satisfied</td>\n",
       "      <td>0.180807</td>\n",
       "      <td>0.180807</td>\n",
       "    </tr>\n",
       "    <tr>\n",
       "      <th>257</th>\n",
       "      <td>StackOverflowCopiedCode_Several times</td>\n",
       "      <td>-0.176851</td>\n",
       "      <td>0.176851</td>\n",
       "    </tr>\n",
       "    <tr>\n",
       "      <th>260</th>\n",
       "      <td>StackOverflowJobListing_Several times</td>\n",
       "      <td>-0.175434</td>\n",
       "      <td>0.175434</td>\n",
       "    </tr>\n",
       "    <tr>\n",
       "      <th>25</th>\n",
       "      <td>CompanySize_10 to 19 employees</td>\n",
       "      <td>0.175015</td>\n",
       "      <td>0.175015</td>\n",
       "    </tr>\n",
       "    <tr>\n",
       "      <th>258</th>\n",
       "      <td>StackOverflowJobListing_Haven't done at all</td>\n",
       "      <td>-0.171028</td>\n",
       "      <td>0.171028</td>\n",
       "    </tr>\n",
       "    <tr>\n",
       "      <th>27</th>\n",
       "      <td>CompanySize_100 to 499 employees</td>\n",
       "      <td>0.167068</td>\n",
       "      <td>0.167068</td>\n",
       "    </tr>\n",
       "  </tbody>\n",
       "</table>\n",
       "</div>"
      ],
      "text/plain": [
       "                                               est_int     coefs  abs_coefs\n",
       "4                  Professional_Professional developer  0.628331   0.628331\n",
       "0                                      JobSatisfaction  0.519891   0.519891\n",
       "189           DifficultCommunication_Strongly disagree  0.345434   0.345434\n",
       "5    Professional_Professional non-developer who so...  0.304543   0.304543\n",
       "15   EmploymentStatus_Independent contractor, freel...  0.286303   0.286303\n",
       "32             CompanyType_Publicly-traded corporation  0.252075   0.252075\n",
       "10                                       Country_India -0.246024   0.246024\n",
       "77                          KinshipDevelopers_Disagree -0.240376   0.240376\n",
       "119                AssessJobProduct_Not very important -0.226778   0.226778\n",
       "8                               ProgramHobby_Yes, both  0.218092   0.218092\n",
       "187                    DifficultCommunication_Disagree  0.208774   0.208774\n",
       "259              StackOverflowJobListing_Once or twice -0.206420   0.206420\n",
       "43                      YearsCodedJob_Less than a year -0.193510   0.193510\n",
       "208               InfluenceInternet_Not very satisfied -0.191093   0.191093\n",
       "204           EquipmentSatisfiedStorage_Very satisfied  0.180807   0.180807\n",
       "257              StackOverflowCopiedCode_Several times -0.176851   0.176851\n",
       "260              StackOverflowJobListing_Several times -0.175434   0.175434\n",
       "25                      CompanySize_10 to 19 employees  0.175015   0.175015\n",
       "258        StackOverflowJobListing_Haven't done at all -0.171028   0.171028\n",
       "27                    CompanySize_100 to 499 employees  0.167068   0.167068"
      ]
     },
     "execution_count": 14,
     "metadata": {},
     "output_type": "execute_result"
    }
   ],
   "source": [
    "def coef_weights(coefficients, X_train):\n",
    "    '''\n",
    "    INPUT:\n",
    "    coefficients - the coefficients of the linear model \n",
    "    X_train - the training data, so the column names can be used\n",
    "    OUTPUT:\n",
    "    coefs_df - a dataframe holding the coefficient, estimate, and abs(estimate)\n",
    "    \n",
    "    Provides a dataframe that can be used to understand the most influential coefficients\n",
    "    in a linear model by providing the coefficient estimates along with the name of the \n",
    "    variable attached to the coefficient.\n",
    "    '''\n",
    "    coefs_df = pd.DataFrame()\n",
    "    coefs_df['est_int'] = X_train.columns\n",
    "    coefs_df['coefs'] = lm_model.coef_\n",
    "    coefs_df['abs_coefs'] = np.abs(lm_model.coef_)\n",
    "    coefs_df = coefs_df.sort_values('abs_coefs', ascending=False)\n",
    "    return coefs_df\n",
    "\n",
    "#Use the function\n",
    "coef_df = coef_weights(lm_model.coef_, X_train)\n",
    "\n",
    "#look at the top 20 results\n",
    "coef_df.head(20)"
   ]
  },
  {
   "cell_type": "code",
   "execution_count": 15,
   "metadata": {},
   "outputs": [
    {
     "data": {
      "text/plain": [
       "Disagree             5814\n",
       "Somewhat agree       2349\n",
       "Strongly disagree    1978\n",
       "Agree                 885\n",
       "Strongly agree        184\n",
       "Name: DifficultCommunication, dtype: int64"
      ]
     },
     "execution_count": 15,
     "metadata": {},
     "output_type": "execute_result"
    }
   ],
   "source": [
    "df.DifficultCommunication.value_counts()"
   ]
  },
  {
   "cell_type": "code",
   "execution_count": 16,
   "metadata": {},
   "outputs": [
    {
     "data": {
      "text/plain": [
       "Professional developer                                  13774\n",
       "Student                                                  2821\n",
       "Professional non-developer who sometimes writes code     1782\n",
       "None of these                                             368\n",
       "Used to be a professional developer                       357\n",
       "Name: Professional, dtype: int64"
      ]
     },
     "execution_count": 16,
     "metadata": {},
     "output_type": "execute_result"
    }
   ],
   "source": [
    "df.Professional.value_counts()"
   ]
  },
  {
   "cell_type": "markdown",
   "metadata": {},
   "source": [
    "According to the coefficients, **Professionalism** seems to have a high impact on CareerSatisfaction. Further, **JobSatisfaction** and **Communication Skills** also plays a vital role. "
   ]
  },
  {
   "cell_type": "code",
   "execution_count": null,
   "metadata": {},
   "outputs": [],
   "source": []
  }
 ],
 "metadata": {
  "kernelspec": {
   "display_name": "Python 3",
   "language": "python",
   "name": "python3"
  },
  "language_info": {
   "codemirror_mode": {
    "name": "ipython",
    "version": 3
   },
   "file_extension": ".py",
   "mimetype": "text/x-python",
   "name": "python",
   "nbconvert_exporter": "python",
   "pygments_lexer": "ipython3",
   "version": "3.6.7"
  }
 },
 "nbformat": 4,
 "nbformat_minor": 2
}
